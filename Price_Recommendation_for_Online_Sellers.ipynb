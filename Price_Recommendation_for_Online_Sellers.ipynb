{
  "cells": [
    {
      "cell_type": "markdown",
      "metadata": {
        "colab_type": "text",
        "id": "view-in-github"
      },
      "source": [
        "<a href=\"https://colab.research.google.com/github/Apaulgithub/CodeClauseInternship_Price_Recommendation/blob/main/Price_Recommendation_for_Online_Sellers.ipynb\" target=\"_parent\"><img src=\"https://colab.research.google.com/assets/colab-badge.svg\" alt=\"Open In Colab\"/></a>"
      ]
    },
    {
      "cell_type": "markdown",
      "metadata": {
        "id": "vncDsAP0Gaoa"
      },
      "source": [
        "# **Project Name**    - Price Recommendation for Online Sellers\n"
      ]
    },
    {
      "cell_type": "markdown",
      "metadata": {
        "id": "beRrZCGUAJYm"
      },
      "source": []
    },
    {
      "cell_type": "markdown",
      "metadata": {
        "id": "HhfV-JJviCcP"
      },
      "source": [
        "## ***1. Know Your Data***"
      ]
    },
    {
      "cell_type": "markdown",
      "metadata": {
        "id": "Y3lxredqlCYt"
      },
      "source": [
        "### Import Libraries"
      ]
    },
    {
      "cell_type": "code",
      "execution_count": 1,
      "metadata": {
        "colab": {
          "base_uri": "https://localhost:8080/"
        },
        "id": "M8Vqi-pPk-HR",
        "outputId": "6fea66f2-3b65-4601-8976-cd74bee8f8ac"
      },
      "outputs": [
        {
          "name": "stderr",
          "output_type": "stream",
          "text": [
            "[nltk_data] Downloading package stopwords to /root/nltk_data...\n",
            "[nltk_data]   Unzipping corpora/stopwords.zip.\n"
          ]
        }
      ],
      "source": [
        "# Import Libraries\n",
        "# Importing Numpy & Pandas for data processing & data wrangling\n",
        "import numpy as np\n",
        "import pandas as pd\n",
        "\n",
        "# Importing  tools for visualization\n",
        "import matplotlib.pyplot as plt\n",
        "import seaborn as sns\n",
        "import gc\n",
        "\n",
        "# Import functions to work with sparse matrices\n",
        "from scipy.sparse import vstack, hstack, csr_matrix\n",
        "\n",
        "# Library used for textual data preprocessing\n",
        "import string\n",
        "from string import punctuation\n",
        "import nltk\n",
        "from nltk.corpus import stopwords\n",
        "nltk.download('stopwords')\n",
        "from sklearn.feature_extraction.text import CountVectorizer\n",
        "from sklearn.feature_extraction.text import TfidfVectorizer\n",
        "from sklearn.model_selection import KFold\n",
        "\n",
        "# Import LabelBinarizer to convert labels into numerical representations\n",
        "from sklearn.preprocessing import LabelBinarizer\n",
        "\n",
        "# Import the ML models for regression tasks\n",
        "from sklearn.linear_model import LinearRegression\n",
        "from sklearn.ensemble import RandomForestRegressor\n",
        "from sklearn.linear_model import Ridge\n",
        "\n",
        "# Import time format\n",
        "import time\n",
        "\n",
        "# Library used for ignore warnings\n",
        "import warnings\n",
        "warnings.filterwarnings('ignore')\n",
        "%matplotlib inline"
      ]
    },
    {
      "cell_type": "markdown",
      "metadata": {
        "id": "3RnN4peoiCZX"
      },
      "source": [
        "### Dataset Loading"
      ]
    },
    {
      "cell_type": "code",
      "execution_count": 2,
      "metadata": {
        "colab": {
          "base_uri": "https://localhost:8080/"
        },
        "id": "8VNBI5sQ3x1P",
        "outputId": "a6e9befa-cdab-4ebb-e77d-b629a148aa98"
      },
      "outputs": [
        {
          "name": "stdout",
          "output_type": "stream",
          "text": [
            "Mounted at /content/drive\n"
          ]
        }
      ],
      "source": [
        "# Mount with Google Drive\n",
        "from google.colab import drive\n",
        "drive.mount('/content/drive')"
      ]
    },
    {
      "cell_type": "code",
      "execution_count": 3,
      "metadata": {
        "id": "4CkvbW_SlZ_R"
      },
      "outputs": [],
      "source": [
        "# Load Train Dataset from github repository\n",
        "train = pd.read_csv('/content/drive/My Drive/Data Science Internships/Code Clause/Price Recommendation for Online Sellers/Project CSV File/train.tsv', sep = '\\t')"
      ]
    },
    {
      "cell_type": "code",
      "execution_count": 4,
      "metadata": {
        "id": "8lTYx2RNtnWS"
      },
      "outputs": [],
      "source": [
        "# Load Test Dataset from github repository\n",
        "test = pd.read_csv('/content/drive/My Drive/Data Science Internships/Code Clause/Price Recommendation for Online Sellers/Project CSV File/test.tsv', sep = '\\t')"
      ]
    },
    {
      "cell_type": "code",
      "execution_count": 5,
      "metadata": {
        "id": "Jx19kXJMuNuF"
      },
      "outputs": [],
      "source": [
        "# Create combined set.\n",
        "combined = pd.concat([train,test])\n",
        "\n",
        "# Create the submission set (Only contains the test ID)\n",
        "submission = test[['test_id']]\n",
        "\n",
        "# Create size of train\n",
        "train_size = len(train)\n",
        "\n",
        "# Create log price variable (Transformation)\n",
        "y = np.log1p(train['price'])\n",
        "\n",
        "# Selecting 10% of the combined dataset and resetting the index for the new subset.\n",
        "combined_ML = combined.sample(frac=0.1).reset_index(drop=True)"
      ]
    },
    {
      "cell_type": "markdown",
      "metadata": {
        "id": "x71ZqKXriCWQ"
      },
      "source": [
        "### Dataset First View"
      ]
    },
    {
      "cell_type": "code",
      "execution_count": 6,
      "metadata": {
        "colab": {
          "base_uri": "https://localhost:8080/",
          "height": 0
        },
        "id": "LWNFOSvLl09H",
        "outputId": "0ab65b63-7023-4bb0-9bee-db08bb3eec50"
      },
      "outputs": [
        {
          "data": {
            "text/html": [
              "\n",
              "  <div id=\"df-7bf6a873-2e74-44a7-8259-aef58707d456\" class=\"colab-df-container\">\n",
              "    <div>\n",
              "<style scoped>\n",
              "    .dataframe tbody tr th:only-of-type {\n",
              "        vertical-align: middle;\n",
              "    }\n",
              "\n",
              "    .dataframe tbody tr th {\n",
              "        vertical-align: top;\n",
              "    }\n",
              "\n",
              "    .dataframe thead th {\n",
              "        text-align: right;\n",
              "    }\n",
              "</style>\n",
              "<table border=\"1\" class=\"dataframe\">\n",
              "  <thead>\n",
              "    <tr style=\"text-align: right;\">\n",
              "      <th></th>\n",
              "      <th>train_id</th>\n",
              "      <th>name</th>\n",
              "      <th>item_condition_id</th>\n",
              "      <th>category_name</th>\n",
              "      <th>brand_name</th>\n",
              "      <th>price</th>\n",
              "      <th>shipping</th>\n",
              "      <th>item_description</th>\n",
              "      <th>test_id</th>\n",
              "    </tr>\n",
              "  </thead>\n",
              "  <tbody>\n",
              "    <tr>\n",
              "      <th>0</th>\n",
              "      <td>86695.0</td>\n",
              "      <td>Authentic Jason Williams Jersey</td>\n",
              "      <td>2</td>\n",
              "      <td>Men/Athletic Apparel/Jerseys</td>\n",
              "      <td>Starter</td>\n",
              "      <td>81.0</td>\n",
              "      <td>0</td>\n",
              "      <td>Starter Authentic Sacramento Kings Jason Willi...</td>\n",
              "      <td>NaN</td>\n",
              "    </tr>\n",
              "    <tr>\n",
              "      <th>1</th>\n",
              "      <td>998048.0</td>\n",
              "      <td>Joes the skinny size 29</td>\n",
              "      <td>4</td>\n",
              "      <td>Women/Jeans/Slim, Skinny</td>\n",
              "      <td>Joe's Jeans</td>\n",
              "      <td>16.0</td>\n",
              "      <td>0</td>\n",
              "      <td>Some spandex pulls shown in second picture not...</td>\n",
              "      <td>NaN</td>\n",
              "    </tr>\n",
              "    <tr>\n",
              "      <th>2</th>\n",
              "      <td>72764.0</td>\n",
              "      <td>Victoria's Secret Knockout Tights</td>\n",
              "      <td>2</td>\n",
              "      <td>Women/Athletic Apparel/Pants, Tights, Leggings</td>\n",
              "      <td>Victoria's Secret</td>\n",
              "      <td>33.0</td>\n",
              "      <td>0</td>\n",
              "      <td>Bought these on here but too tight for me :( S...</td>\n",
              "      <td>NaN</td>\n",
              "    </tr>\n",
              "    <tr>\n",
              "      <th>3</th>\n",
              "      <td>452571.0</td>\n",
              "      <td>VS PINK Ballet Wrap Leggings S PREOWNED</td>\n",
              "      <td>3</td>\n",
              "      <td>Women/Athletic Apparel/Pants, Tights, Leggings</td>\n",
              "      <td>PINK</td>\n",
              "      <td>25.0</td>\n",
              "      <td>1</td>\n",
              "      <td>Bundle: NwT Watermelon and Pineapple Shorties ...</td>\n",
              "      <td>NaN</td>\n",
              "    </tr>\n",
              "    <tr>\n",
              "      <th>4</th>\n",
              "      <td>NaN</td>\n",
              "      <td>Necklace and 2 stickers</td>\n",
              "      <td>1</td>\n",
              "      <td>Women/Jewelry/Necklaces</td>\n",
              "      <td>NaN</td>\n",
              "      <td>NaN</td>\n",
              "      <td>1</td>\n",
              "      <td>No description yet</td>\n",
              "      <td>680168.0</td>\n",
              "    </tr>\n",
              "  </tbody>\n",
              "</table>\n",
              "</div>\n",
              "    <div class=\"colab-df-buttons\">\n",
              "\n",
              "  <div class=\"colab-df-container\">\n",
              "    <button class=\"colab-df-convert\" onclick=\"convertToInteractive('df-7bf6a873-2e74-44a7-8259-aef58707d456')\"\n",
              "            title=\"Convert this dataframe to an interactive table.\"\n",
              "            style=\"display:none;\">\n",
              "\n",
              "  <svg xmlns=\"http://www.w3.org/2000/svg\" height=\"24px\" viewBox=\"0 -960 960 960\">\n",
              "    <path d=\"M120-120v-720h720v720H120Zm60-500h600v-160H180v160Zm220 220h160v-160H400v160Zm0 220h160v-160H400v160ZM180-400h160v-160H180v160Zm440 0h160v-160H620v160ZM180-180h160v-160H180v160Zm440 0h160v-160H620v160Z\"/>\n",
              "  </svg>\n",
              "    </button>\n",
              "\n",
              "  <style>\n",
              "    .colab-df-container {\n",
              "      display:flex;\n",
              "      gap: 12px;\n",
              "    }\n",
              "\n",
              "    .colab-df-convert {\n",
              "      background-color: #E8F0FE;\n",
              "      border: none;\n",
              "      border-radius: 50%;\n",
              "      cursor: pointer;\n",
              "      display: none;\n",
              "      fill: #1967D2;\n",
              "      height: 32px;\n",
              "      padding: 0 0 0 0;\n",
              "      width: 32px;\n",
              "    }\n",
              "\n",
              "    .colab-df-convert:hover {\n",
              "      background-color: #E2EBFA;\n",
              "      box-shadow: 0px 1px 2px rgba(60, 64, 67, 0.3), 0px 1px 3px 1px rgba(60, 64, 67, 0.15);\n",
              "      fill: #174EA6;\n",
              "    }\n",
              "\n",
              "    .colab-df-buttons div {\n",
              "      margin-bottom: 4px;\n",
              "    }\n",
              "\n",
              "    [theme=dark] .colab-df-convert {\n",
              "      background-color: #3B4455;\n",
              "      fill: #D2E3FC;\n",
              "    }\n",
              "\n",
              "    [theme=dark] .colab-df-convert:hover {\n",
              "      background-color: #434B5C;\n",
              "      box-shadow: 0px 1px 3px 1px rgba(0, 0, 0, 0.15);\n",
              "      filter: drop-shadow(0px 1px 2px rgba(0, 0, 0, 0.3));\n",
              "      fill: #FFFFFF;\n",
              "    }\n",
              "  </style>\n",
              "\n",
              "    <script>\n",
              "      const buttonEl =\n",
              "        document.querySelector('#df-7bf6a873-2e74-44a7-8259-aef58707d456 button.colab-df-convert');\n",
              "      buttonEl.style.display =\n",
              "        google.colab.kernel.accessAllowed ? 'block' : 'none';\n",
              "\n",
              "      async function convertToInteractive(key) {\n",
              "        const element = document.querySelector('#df-7bf6a873-2e74-44a7-8259-aef58707d456');\n",
              "        const dataTable =\n",
              "          await google.colab.kernel.invokeFunction('convertToInteractive',\n",
              "                                                    [key], {});\n",
              "        if (!dataTable) return;\n",
              "\n",
              "        const docLinkHtml = 'Like what you see? Visit the ' +\n",
              "          '<a target=\"_blank\" href=https://colab.research.google.com/notebooks/data_table.ipynb>data table notebook</a>'\n",
              "          + ' to learn more about interactive tables.';\n",
              "        element.innerHTML = '';\n",
              "        dataTable['output_type'] = 'display_data';\n",
              "        await google.colab.output.renderOutput(dataTable, element);\n",
              "        const docLink = document.createElement('div');\n",
              "        docLink.innerHTML = docLinkHtml;\n",
              "        element.appendChild(docLink);\n",
              "      }\n",
              "    </script>\n",
              "  </div>\n",
              "\n",
              "\n",
              "<div id=\"df-4b165266-9723-4662-97fd-b1ccab83e018\">\n",
              "  <button class=\"colab-df-quickchart\" onclick=\"quickchart('df-4b165266-9723-4662-97fd-b1ccab83e018')\"\n",
              "            title=\"Suggest charts.\"\n",
              "            style=\"display:none;\">\n",
              "\n",
              "<svg xmlns=\"http://www.w3.org/2000/svg\" height=\"24px\"viewBox=\"0 0 24 24\"\n",
              "     width=\"24px\">\n",
              "    <g>\n",
              "        <path d=\"M19 3H5c-1.1 0-2 .9-2 2v14c0 1.1.9 2 2 2h14c1.1 0 2-.9 2-2V5c0-1.1-.9-2-2-2zM9 17H7v-7h2v7zm4 0h-2V7h2v10zm4 0h-2v-4h2v4z\"/>\n",
              "    </g>\n",
              "</svg>\n",
              "  </button>\n",
              "\n",
              "<style>\n",
              "  .colab-df-quickchart {\n",
              "      --bg-color: #E8F0FE;\n",
              "      --fill-color: #1967D2;\n",
              "      --hover-bg-color: #E2EBFA;\n",
              "      --hover-fill-color: #174EA6;\n",
              "      --disabled-fill-color: #AAA;\n",
              "      --disabled-bg-color: #DDD;\n",
              "  }\n",
              "\n",
              "  [theme=dark] .colab-df-quickchart {\n",
              "      --bg-color: #3B4455;\n",
              "      --fill-color: #D2E3FC;\n",
              "      --hover-bg-color: #434B5C;\n",
              "      --hover-fill-color: #FFFFFF;\n",
              "      --disabled-bg-color: #3B4455;\n",
              "      --disabled-fill-color: #666;\n",
              "  }\n",
              "\n",
              "  .colab-df-quickchart {\n",
              "    background-color: var(--bg-color);\n",
              "    border: none;\n",
              "    border-radius: 50%;\n",
              "    cursor: pointer;\n",
              "    display: none;\n",
              "    fill: var(--fill-color);\n",
              "    height: 32px;\n",
              "    padding: 0;\n",
              "    width: 32px;\n",
              "  }\n",
              "\n",
              "  .colab-df-quickchart:hover {\n",
              "    background-color: var(--hover-bg-color);\n",
              "    box-shadow: 0 1px 2px rgba(60, 64, 67, 0.3), 0 1px 3px 1px rgba(60, 64, 67, 0.15);\n",
              "    fill: var(--button-hover-fill-color);\n",
              "  }\n",
              "\n",
              "  .colab-df-quickchart-complete:disabled,\n",
              "  .colab-df-quickchart-complete:disabled:hover {\n",
              "    background-color: var(--disabled-bg-color);\n",
              "    fill: var(--disabled-fill-color);\n",
              "    box-shadow: none;\n",
              "  }\n",
              "\n",
              "  .colab-df-spinner {\n",
              "    border: 2px solid var(--fill-color);\n",
              "    border-color: transparent;\n",
              "    border-bottom-color: var(--fill-color);\n",
              "    animation:\n",
              "      spin 1s steps(1) infinite;\n",
              "  }\n",
              "\n",
              "  @keyframes spin {\n",
              "    0% {\n",
              "      border-color: transparent;\n",
              "      border-bottom-color: var(--fill-color);\n",
              "      border-left-color: var(--fill-color);\n",
              "    }\n",
              "    20% {\n",
              "      border-color: transparent;\n",
              "      border-left-color: var(--fill-color);\n",
              "      border-top-color: var(--fill-color);\n",
              "    }\n",
              "    30% {\n",
              "      border-color: transparent;\n",
              "      border-left-color: var(--fill-color);\n",
              "      border-top-color: var(--fill-color);\n",
              "      border-right-color: var(--fill-color);\n",
              "    }\n",
              "    40% {\n",
              "      border-color: transparent;\n",
              "      border-right-color: var(--fill-color);\n",
              "      border-top-color: var(--fill-color);\n",
              "    }\n",
              "    60% {\n",
              "      border-color: transparent;\n",
              "      border-right-color: var(--fill-color);\n",
              "    }\n",
              "    80% {\n",
              "      border-color: transparent;\n",
              "      border-right-color: var(--fill-color);\n",
              "      border-bottom-color: var(--fill-color);\n",
              "    }\n",
              "    90% {\n",
              "      border-color: transparent;\n",
              "      border-bottom-color: var(--fill-color);\n",
              "    }\n",
              "  }\n",
              "</style>\n",
              "\n",
              "  <script>\n",
              "    async function quickchart(key) {\n",
              "      const quickchartButtonEl =\n",
              "        document.querySelector('#' + key + ' button');\n",
              "      quickchartButtonEl.disabled = true;  // To prevent multiple clicks.\n",
              "      quickchartButtonEl.classList.add('colab-df-spinner');\n",
              "      try {\n",
              "        const charts = await google.colab.kernel.invokeFunction(\n",
              "            'suggestCharts', [key], {});\n",
              "      } catch (error) {\n",
              "        console.error('Error during call to suggestCharts:', error);\n",
              "      }\n",
              "      quickchartButtonEl.classList.remove('colab-df-spinner');\n",
              "      quickchartButtonEl.classList.add('colab-df-quickchart-complete');\n",
              "    }\n",
              "    (() => {\n",
              "      let quickchartButtonEl =\n",
              "        document.querySelector('#df-4b165266-9723-4662-97fd-b1ccab83e018 button');\n",
              "      quickchartButtonEl.style.display =\n",
              "        google.colab.kernel.accessAllowed ? 'block' : 'none';\n",
              "    })();\n",
              "  </script>\n",
              "</div>\n",
              "    </div>\n",
              "  </div>\n"
            ],
            "text/plain": [
              "   train_id                                     name  item_condition_id  \\\n",
              "0   86695.0          Authentic Jason Williams Jersey                  2   \n",
              "1  998048.0                  Joes the skinny size 29                  4   \n",
              "2   72764.0        Victoria's Secret Knockout Tights                  2   \n",
              "3  452571.0  VS PINK Ballet Wrap Leggings S PREOWNED                  3   \n",
              "4       NaN                  Necklace and 2 stickers                  1   \n",
              "\n",
              "                                    category_name         brand_name  price  \\\n",
              "0                    Men/Athletic Apparel/Jerseys            Starter   81.0   \n",
              "1                        Women/Jeans/Slim, Skinny        Joe's Jeans   16.0   \n",
              "2  Women/Athletic Apparel/Pants, Tights, Leggings  Victoria's Secret   33.0   \n",
              "3  Women/Athletic Apparel/Pants, Tights, Leggings               PINK   25.0   \n",
              "4                         Women/Jewelry/Necklaces                NaN    NaN   \n",
              "\n",
              "   shipping                                   item_description   test_id  \n",
              "0         0  Starter Authentic Sacramento Kings Jason Willi...       NaN  \n",
              "1         0  Some spandex pulls shown in second picture not...       NaN  \n",
              "2         0  Bought these on here but too tight for me :( S...       NaN  \n",
              "3         1  Bundle: NwT Watermelon and Pineapple Shorties ...       NaN  \n",
              "4         1                                 No description yet  680168.0  "
            ]
          },
          "execution_count": 6,
          "metadata": {},
          "output_type": "execute_result"
        }
      ],
      "source": [
        "# Dataset First Look\n",
        "# View top 5 rows of the dataset\n",
        "combined_ML.head()"
      ]
    },
    {
      "cell_type": "markdown",
      "metadata": {
        "id": "7hBIi_osiCS2"
      },
      "source": [
        "### Dataset Rows & Columns count"
      ]
    },
    {
      "cell_type": "code",
      "execution_count": 7,
      "metadata": {
        "colab": {
          "base_uri": "https://localhost:8080/"
        },
        "id": "Kllu7SJgmLij",
        "outputId": "3b88c0cd-e357-4f75-c265-228564535f54"
      },
      "outputs": [
        {
          "name": "stdout",
          "output_type": "stream",
          "text": [
            "Number of rows are:  217589\n",
            "Number of columns are:  9\n"
          ]
        }
      ],
      "source": [
        "# Dataset Rows & Columns count\n",
        "# Checking number of rows and columns of the dataset using shape\n",
        "print(\"Number of rows are: \",combined_ML.shape[0])\n",
        "print(\"Number of columns are: \",combined_ML.shape[1])"
      ]
    },
    {
      "cell_type": "markdown",
      "metadata": {
        "id": "JlHwYmJAmNHm"
      },
      "source": [
        "### Dataset Information"
      ]
    },
    {
      "cell_type": "code",
      "execution_count": 8,
      "metadata": {
        "colab": {
          "base_uri": "https://localhost:8080/"
        },
        "id": "e9hRXRi6meOf",
        "outputId": "d9c5d0c1-ce85-441a-c50d-f74ea137be55"
      },
      "outputs": [
        {
          "name": "stdout",
          "output_type": "stream",
          "text": [
            "<class 'pandas.core.frame.DataFrame'>\n",
            "RangeIndex: 217589 entries, 0 to 217588\n",
            "Data columns (total 9 columns):\n",
            " #   Column             Non-Null Count   Dtype  \n",
            "---  ------             --------------   -----  \n",
            " 0   train_id           147946 non-null  float64\n",
            " 1   name               217589 non-null  object \n",
            " 2   item_condition_id  217589 non-null  int64  \n",
            " 3   category_name      216668 non-null  object \n",
            " 4   brand_name         124768 non-null  object \n",
            " 5   price              147946 non-null  float64\n",
            " 6   shipping           217589 non-null  int64  \n",
            " 7   item_description   217588 non-null  object \n",
            " 8   test_id            69643 non-null   float64\n",
            "dtypes: float64(3), int64(2), object(4)\n",
            "memory usage: 14.9+ MB\n"
          ]
        }
      ],
      "source": [
        "# Dataset Info\n",
        "# Checking information about the dataset using info\n",
        "combined_ML.info()"
      ]
    },
    {
      "cell_type": "markdown",
      "metadata": {
        "id": "35m5QtbWiB9F"
      },
      "source": [
        "#### Duplicate Values"
      ]
    },
    {
      "cell_type": "code",
      "execution_count": 9,
      "metadata": {
        "colab": {
          "base_uri": "https://localhost:8080/"
        },
        "id": "1sLdpKYkmox0",
        "outputId": "069ba42f-dd67-4517-b6d1-538f7da439e0"
      },
      "outputs": [
        {
          "name": "stdout",
          "output_type": "stream",
          "text": [
            "number of duplicated rows are 0\n"
          ]
        }
      ],
      "source": [
        "# Dataset Duplicate Value Count\n",
        "dup = combined_ML.duplicated().sum()\n",
        "print(f'number of duplicated rows are {dup}')"
      ]
    },
    {
      "cell_type": "markdown",
      "metadata": {
        "id": "PoPl-ycgm1ru"
      },
      "source": [
        "#### Missing Values/Null Values"
      ]
    },
    {
      "cell_type": "code",
      "execution_count": 10,
      "metadata": {
        "colab": {
          "base_uri": "https://localhost:8080/"
        },
        "id": "GgHWkxvamxVg",
        "outputId": "7f61598f-9ebf-4af4-aa74-2154370f4a70"
      },
      "outputs": [
        {
          "data": {
            "text/plain": [
              "train_id              69643\n",
              "name                      0\n",
              "item_condition_id         0\n",
              "category_name           921\n",
              "brand_name            92821\n",
              "price                 69643\n",
              "shipping                  0\n",
              "item_description          1\n",
              "test_id              147946\n",
              "dtype: int64"
            ]
          },
          "execution_count": 10,
          "metadata": {},
          "output_type": "execute_result"
        }
      ],
      "source": [
        "# Missing Values/Null Values Count\n",
        "combined_ML.isnull().sum()"
      ]
    },
    {
      "cell_type": "code",
      "execution_count": 11,
      "metadata": {
        "colab": {
          "base_uri": "https://localhost:8080/",
          "height": 678
        },
        "id": "3q5wnI3om9sJ",
        "outputId": "8eca090a-61df-4f1f-d429-8839998489e4"
      },
      "outputs": [
        {
          "data": {
            "image/png": "[encoded data removed]",
            "text/plain": [
              "<Figure size 1000x600 with 2 Axes>"
            ]
          },
          "metadata": {},
          "output_type": "display_data"
        }
      ],
      "source": [
        "# Visualizing the missing values\n",
        "# Set the plot size\n",
        "plt.figure(figsize = (10,6))\n",
        "\n",
        "# Create the figure object\n",
        "sns.heatmap(combined_ML.isnull().corr(), vmin=-1, annot= True)\n",
        "\n",
        "# Set labels\n",
        "plt.xlabel('Name of columns', fontsize=12)\n",
        "plt.ylabel('Name of columns', fontsize=10)\n",
        "plt.title('Places of missing values in Dataset', fontsize=15)\n",
        "\n",
        "# To show\n",
        "plt.show()\n"
      ]
    },
    {
      "cell_type": "markdown",
      "metadata": {
        "id": "H0kj-8xxnORC"
      },
      "source": [
        "### What did you know about your dataset?"
      ]
    },
    {
      "cell_type": "markdown",
      "metadata": {
        "id": "gfoNAAC-nUe_"
      },
      "source": [
        "* The dataset consists of product name, category, brand name, price etc. of different online products available in the dataset.\n",
        "* There are 217589 rows and 9 columns provided in the data.\n",
        "* Null values are present in train_id, test_id, price, brand_name, category_name, and item_description.\n",
        "* No duplicate values exist."
      ]
    },
    {
      "cell_type": "markdown",
      "metadata": {
        "id": "nA9Y7ga8ng1Z"
      },
      "source": [
        "## ***2. Understanding Your Variables***"
      ]
    },
    {
      "cell_type": "code",
      "execution_count": 12,
      "metadata": {
        "colab": {
          "base_uri": "https://localhost:8080/"
        },
        "id": "j7xfkqrt5Ag5",
        "outputId": "15f5e8a6-1f95-45c0-8894-ff0c69177bd5"
      },
      "outputs": [
        {
          "data": {
            "text/plain": [
              "Index(['train_id', 'name', 'item_condition_id', 'category_name', 'brand_name',\n",
              "       'price', 'shipping', 'item_description', 'test_id'],\n",
              "      dtype='object')"
            ]
          },
          "execution_count": 12,
          "metadata": {},
          "output_type": "execute_result"
        }
      ],
      "source": [
        "# Dataset Columns\n",
        "combined_ML.columns"
      ]
    },
    {
      "cell_type": "code",
      "execution_count": 13,
      "metadata": {
        "colab": {
          "base_uri": "https://localhost:8080/",
          "height": 394
        },
        "id": "DnOaZdaE5Q5t",
        "outputId": "8f447886-d63d-4b38-b653-1ec39d55bc6b"
      },
      "outputs": [
        {
          "data": {
            "text/html": [
              "\n",
              "  <div id=\"df-f6356674-707e-40a2-8498-fbdeb796e57e\" class=\"colab-df-container\">\n",
              "    <div>\n",
              "<style scoped>\n",
              "    .dataframe tbody tr th:only-of-type {\n",
              "        vertical-align: middle;\n",
              "    }\n",
              "\n",
              "    .dataframe tbody tr th {\n",
              "        vertical-align: top;\n",
              "    }\n",
              "\n",
              "    .dataframe thead th {\n",
              "        text-align: right;\n",
              "    }\n",
              "</style>\n",
              "<table border=\"1\" class=\"dataframe\">\n",
              "  <thead>\n",
              "    <tr style=\"text-align: right;\">\n",
              "      <th></th>\n",
              "      <th>train_id</th>\n",
              "      <th>name</th>\n",
              "      <th>item_condition_id</th>\n",
              "      <th>category_name</th>\n",
              "      <th>brand_name</th>\n",
              "      <th>price</th>\n",
              "      <th>shipping</th>\n",
              "      <th>item_description</th>\n",
              "      <th>test_id</th>\n",
              "    </tr>\n",
              "  </thead>\n",
              "  <tbody>\n",
              "    <tr>\n",
              "      <th>count</th>\n",
              "      <td>147946.00</td>\n",
              "      <td>217589</td>\n",
              "      <td>217589.00</td>\n",
              "      <td>216668</td>\n",
              "      <td>124768</td>\n",
              "      <td>147946.00</td>\n",
              "      <td>217589.00</td>\n",
              "      <td>217588</td>\n",
              "      <td>69643.00</td>\n",
              "    </tr>\n",
              "    <tr>\n",
              "      <th>unique</th>\n",
              "      <td>NaN</td>\n",
              "      <td>199252</td>\n",
              "      <td>NaN</td>\n",
              "      <td>1076</td>\n",
              "      <td>2693</td>\n",
              "      <td>NaN</td>\n",
              "      <td>NaN</td>\n",
              "      <td>195470</td>\n",
              "      <td>NaN</td>\n",
              "    </tr>\n",
              "    <tr>\n",
              "      <th>top</th>\n",
              "      <td>NaN</td>\n",
              "      <td>Bundle</td>\n",
              "      <td>NaN</td>\n",
              "      <td>Women/Athletic Apparel/Pants, Tights, Leggings</td>\n",
              "      <td>PINK</td>\n",
              "      <td>NaN</td>\n",
              "      <td>NaN</td>\n",
              "      <td>No description yet</td>\n",
              "      <td>NaN</td>\n",
              "    </tr>\n",
              "    <tr>\n",
              "      <th>freq</th>\n",
              "      <td>NaN</td>\n",
              "      <td>335</td>\n",
              "      <td>NaN</td>\n",
              "      <td>8809</td>\n",
              "      <td>8075</td>\n",
              "      <td>NaN</td>\n",
              "      <td>NaN</td>\n",
              "      <td>11992</td>\n",
              "      <td>NaN</td>\n",
              "    </tr>\n",
              "    <tr>\n",
              "      <th>mean</th>\n",
              "      <td>741998.09</td>\n",
              "      <td>NaN</td>\n",
              "      <td>1.91</td>\n",
              "      <td>NaN</td>\n",
              "      <td>NaN</td>\n",
              "      <td>26.71</td>\n",
              "      <td>0.45</td>\n",
              "      <td>NaN</td>\n",
              "      <td>346452.53</td>\n",
              "    </tr>\n",
              "    <tr>\n",
              "      <th>std</th>\n",
              "      <td>428165.24</td>\n",
              "      <td>NaN</td>\n",
              "      <td>0.90</td>\n",
              "      <td>NaN</td>\n",
              "      <td>NaN</td>\n",
              "      <td>38.35</td>\n",
              "      <td>0.50</td>\n",
              "      <td>NaN</td>\n",
              "      <td>199390.37</td>\n",
              "    </tr>\n",
              "    <tr>\n",
              "      <th>min</th>\n",
              "      <td>0.00</td>\n",
              "      <td>NaN</td>\n",
              "      <td>1.00</td>\n",
              "      <td>NaN</td>\n",
              "      <td>NaN</td>\n",
              "      <td>0.00</td>\n",
              "      <td>0.00</td>\n",
              "      <td>NaN</td>\n",
              "      <td>2.00</td>\n",
              "    </tr>\n",
              "    <tr>\n",
              "      <th>25%</th>\n",
              "      <td>371524.25</td>\n",
              "      <td>NaN</td>\n",
              "      <td>1.00</td>\n",
              "      <td>NaN</td>\n",
              "      <td>NaN</td>\n",
              "      <td>10.00</td>\n",
              "      <td>0.00</td>\n",
              "      <td>NaN</td>\n",
              "      <td>174860.00</td>\n",
              "    </tr>\n",
              "    <tr>\n",
              "      <th>50%</th>\n",
              "      <td>741520.50</td>\n",
              "      <td>NaN</td>\n",
              "      <td>2.00</td>\n",
              "      <td>NaN</td>\n",
              "      <td>NaN</td>\n",
              "      <td>17.00</td>\n",
              "      <td>0.00</td>\n",
              "      <td>NaN</td>\n",
              "      <td>345336.00</td>\n",
              "    </tr>\n",
              "    <tr>\n",
              "      <th>75%</th>\n",
              "      <td>1113452.50</td>\n",
              "      <td>NaN</td>\n",
              "      <td>3.00</td>\n",
              "      <td>NaN</td>\n",
              "      <td>NaN</td>\n",
              "      <td>29.00</td>\n",
              "      <td>1.00</td>\n",
              "      <td>NaN</td>\n",
              "      <td>519530.00</td>\n",
              "    </tr>\n",
              "    <tr>\n",
              "      <th>max</th>\n",
              "      <td>1482528.00</td>\n",
              "      <td>NaN</td>\n",
              "      <td>5.00</td>\n",
              "      <td>NaN</td>\n",
              "      <td>NaN</td>\n",
              "      <td>2000.00</td>\n",
              "      <td>1.00</td>\n",
              "      <td>NaN</td>\n",
              "      <td>693350.00</td>\n",
              "    </tr>\n",
              "  </tbody>\n",
              "</table>\n",
              "</div>\n",
              "    <div class=\"colab-df-buttons\">\n",
              "\n",
              "  <div class=\"colab-df-container\">\n",
              "    <button class=\"colab-df-convert\" onclick=\"convertToInteractive('df-f6356674-707e-40a2-8498-fbdeb796e57e')\"\n",
              "            title=\"Convert this dataframe to an interactive table.\"\n",
              "            style=\"display:none;\">\n",
              "\n",
              "  <svg xmlns=\"http://www.w3.org/2000/svg\" height=\"24px\" viewBox=\"0 -960 960 960\">\n",
              "    <path d=\"M120-120v-720h720v720H120Zm60-500h600v-160H180v160Zm220 220h160v-160H400v160Zm0 220h160v-160H400v160ZM180-400h160v-160H180v160Zm440 0h160v-160H620v160ZM180-180h160v-160H180v160Zm440 0h160v-160H620v160Z\"/>\n",
              "  </svg>\n",
              "    </button>\n",
              "\n",
              "  <style>\n",
              "    .colab-df-container {\n",
              "      display:flex;\n",
              "      gap: 12px;\n",
              "    }\n",
              "\n",
              "    .colab-df-convert {\n",
              "      background-color: #E8F0FE;\n",
              "      border: none;\n",
              "      border-radius: 50%;\n",
              "      cursor: pointer;\n",
              "      display: none;\n",
              "      fill: #1967D2;\n",
              "      height: 32px;\n",
              "      padding: 0 0 0 0;\n",
              "      width: 32px;\n",
              "    }\n",
              "\n",
              "    .colab-df-convert:hover {\n",
              "      background-color: #E2EBFA;\n",
              "      box-shadow: 0px 1px 2px rgba(60, 64, 67, 0.3), 0px 1px 3px 1px rgba(60, 64, 67, 0.15);\n",
              "      fill: #174EA6;\n",
              "    }\n",
              "\n",
              "    .colab-df-buttons div {\n",
              "      margin-bottom: 4px;\n",
              "    }\n",
              "\n",
              "    [theme=dark] .colab-df-convert {\n",
              "      background-color: #3B4455;\n",
              "      fill: #D2E3FC;\n",
              "    }\n",
              "\n",
              "    [theme=dark] .colab-df-convert:hover {\n",
              "      background-color: #434B5C;\n",
              "      box-shadow: 0px 1px 3px 1px rgba(0, 0, 0, 0.15);\n",
              "      filter: drop-shadow(0px 1px 2px rgba(0, 0, 0, 0.3));\n",
              "      fill: #FFFFFF;\n",
              "    }\n",
              "  </style>\n",
              "\n",
              "    <script>\n",
              "      const buttonEl =\n",
              "        document.querySelector('#df-f6356674-707e-40a2-8498-fbdeb796e57e button.colab-df-convert');\n",
              "      buttonEl.style.display =\n",
              "        google.colab.kernel.accessAllowed ? 'block' : 'none';\n",
              "\n",
              "      async function convertToInteractive(key) {\n",
              "        const element = document.querySelector('#df-f6356674-707e-40a2-8498-fbdeb796e57e');\n",
              "        const dataTable =\n",
              "          await google.colab.kernel.invokeFunction('convertToInteractive',\n",
              "                                                    [key], {});\n",
              "        if (!dataTable) return;\n",
              "\n",
              "        const docLinkHtml = 'Like what you see? Visit the ' +\n",
              "          '<a target=\"_blank\" href=https://colab.research.google.com/notebooks/data_table.ipynb>data table notebook</a>'\n",
              "          + ' to learn more about interactive tables.';\n",
              "        element.innerHTML = '';\n",
              "        dataTable['output_type'] = 'display_data';\n",
              "        await google.colab.output.renderOutput(dataTable, element);\n",
              "        const docLink = document.createElement('div');\n",
              "        docLink.innerHTML = docLinkHtml;\n",
              "        element.appendChild(docLink);\n",
              "      }\n",
              "    </script>\n",
              "  </div>\n",
              "\n",
              "\n",
              "<div id=\"df-c8a17e9a-bdd5-4a0a-93e9-4f389258ee3b\">\n",
              "  <button class=\"colab-df-quickchart\" onclick=\"quickchart('df-c8a17e9a-bdd5-4a0a-93e9-4f389258ee3b')\"\n",
              "            title=\"Suggest charts.\"\n",
              "            style=\"display:none;\">\n",
              "\n",
              "<svg xmlns=\"http://www.w3.org/2000/svg\" height=\"24px\"viewBox=\"0 0 24 24\"\n",
              "     width=\"24px\">\n",
              "    <g>\n",
              "        <path d=\"M19 3H5c-1.1 0-2 .9-2 2v14c0 1.1.9 2 2 2h14c1.1 0 2-.9 2-2V5c0-1.1-.9-2-2-2zM9 17H7v-7h2v7zm4 0h-2V7h2v10zm4 0h-2v-4h2v4z\"/>\n",
              "    </g>\n",
              "</svg>\n",
              "  </button>\n",
              "\n",
              "<style>\n",
              "  .colab-df-quickchart {\n",
              "      --bg-color: #E8F0FE;\n",
              "      --fill-color: #1967D2;\n",
              "      --hover-bg-color: #E2EBFA;\n",
              "      --hover-fill-color: #174EA6;\n",
              "      --disabled-fill-color: #AAA;\n",
              "      --disabled-bg-color: #DDD;\n",
              "  }\n",
              "\n",
              "  [theme=dark] .colab-df-quickchart {\n",
              "      --bg-color: #3B4455;\n",
              "      --fill-color: #D2E3FC;\n",
              "      --hover-bg-color: #434B5C;\n",
              "      --hover-fill-color: #FFFFFF;\n",
              "      --disabled-bg-color: #3B4455;\n",
              "      --disabled-fill-color: #666;\n",
              "  }\n",
              "\n",
              "  .colab-df-quickchart {\n",
              "    background-color: var(--bg-color);\n",
              "    border: none;\n",
              "    border-radius: 50%;\n",
              "    cursor: pointer;\n",
              "    display: none;\n",
              "    fill: var(--fill-color);\n",
              "    height: 32px;\n",
              "    padding: 0;\n",
              "    width: 32px;\n",
              "  }\n",
              "\n",
              "  .colab-df-quickchart:hover {\n",
              "    background-color: var(--hover-bg-color);\n",
              "    box-shadow: 0 1px 2px rgba(60, 64, 67, 0.3), 0 1px 3px 1px rgba(60, 64, 67, 0.15);\n",
              "    fill: var(--button-hover-fill-color);\n",
              "  }\n",
              "\n",
              "  .colab-df-quickchart-complete:disabled,\n",
              "  .colab-df-quickchart-complete:disabled:hover {\n",
              "    background-color: var(--disabled-bg-color);\n",
              "    fill: var(--disabled-fill-color);\n",
              "    box-shadow: none;\n",
              "  }\n",
              "\n",
              "  .colab-df-spinner {\n",
              "    border: 2px solid var(--fill-color);\n",
              "    border-color: transparent;\n",
              "    border-bottom-color: var(--fill-color);\n",
              "    animation:\n",
              "      spin 1s steps(1) infinite;\n",
              "  }\n",
              "\n",
              "  @keyframes spin {\n",
              "    0% {\n",
              "      border-color: transparent;\n",
              "      border-bottom-color: var(--fill-color);\n",
              "      border-left-color: var(--fill-color);\n",
              "    }\n",
              "    20% {\n",
              "      border-color: transparent;\n",
              "      border-left-color: var(--fill-color);\n",
              "      border-top-color: var(--fill-color);\n",
              "    }\n",
              "    30% {\n",
              "      border-color: transparent;\n",
              "      border-left-color: var(--fill-color);\n",
              "      border-top-color: var(--fill-color);\n",
              "      border-right-color: var(--fill-color);\n",
              "    }\n",
              "    40% {\n",
              "      border-color: transparent;\n",
              "      border-right-color: var(--fill-color);\n",
              "      border-top-color: var(--fill-color);\n",
              "    }\n",
              "    60% {\n",
              "      border-color: transparent;\n",
              "      border-right-color: var(--fill-color);\n",
              "    }\n",
              "    80% {\n",
              "      border-color: transparent;\n",
              "      border-right-color: var(--fill-color);\n",
              "      border-bottom-color: var(--fill-color);\n",
              "    }\n",
              "    90% {\n",
              "      border-color: transparent;\n",
              "      border-bottom-color: var(--fill-color);\n",
              "    }\n",
              "  }\n",
              "</style>\n",
              "\n",
              "  <script>\n",
              "    async function quickchart(key) {\n",
              "      const quickchartButtonEl =\n",
              "        document.querySelector('#' + key + ' button');\n",
              "      quickchartButtonEl.disabled = true;  // To prevent multiple clicks.\n",
              "      quickchartButtonEl.classList.add('colab-df-spinner');\n",
              "      try {\n",
              "        const charts = await google.colab.kernel.invokeFunction(\n",
              "            'suggestCharts', [key], {});\n",
              "      } catch (error) {\n",
              "        console.error('Error during call to suggestCharts:', error);\n",
              "      }\n",
              "      quickchartButtonEl.classList.remove('colab-df-spinner');\n",
              "      quickchartButtonEl.classList.add('colab-df-quickchart-complete');\n",
              "    }\n",
              "    (() => {\n",
              "      let quickchartButtonEl =\n",
              "        document.querySelector('#df-c8a17e9a-bdd5-4a0a-93e9-4f389258ee3b button');\n",
              "      quickchartButtonEl.style.display =\n",
              "        google.colab.kernel.accessAllowed ? 'block' : 'none';\n",
              "    })();\n",
              "  </script>\n",
              "</div>\n",
              "    </div>\n",
              "  </div>\n"
            ],
            "text/plain": [
              "          train_id    name  item_condition_id  \\\n",
              "count    147946.00  217589          217589.00   \n",
              "unique         NaN  199252                NaN   \n",
              "top            NaN  Bundle                NaN   \n",
              "freq           NaN     335                NaN   \n",
              "mean     741998.09     NaN               1.91   \n",
              "std      428165.24     NaN               0.90   \n",
              "min           0.00     NaN               1.00   \n",
              "25%      371524.25     NaN               1.00   \n",
              "50%      741520.50     NaN               2.00   \n",
              "75%     1113452.50     NaN               3.00   \n",
              "max     1482528.00     NaN               5.00   \n",
              "\n",
              "                                         category_name brand_name      price  \\\n",
              "count                                           216668     124768  147946.00   \n",
              "unique                                            1076       2693        NaN   \n",
              "top     Women/Athletic Apparel/Pants, Tights, Leggings       PINK        NaN   \n",
              "freq                                              8809       8075        NaN   \n",
              "mean                                               NaN        NaN      26.71   \n",
              "std                                                NaN        NaN      38.35   \n",
              "min                                                NaN        NaN       0.00   \n",
              "25%                                                NaN        NaN      10.00   \n",
              "50%                                                NaN        NaN      17.00   \n",
              "75%                                                NaN        NaN      29.00   \n",
              "max                                                NaN        NaN    2000.00   \n",
              "\n",
              "         shipping    item_description    test_id  \n",
              "count   217589.00              217588   69643.00  \n",
              "unique        NaN              195470        NaN  \n",
              "top           NaN  No description yet        NaN  \n",
              "freq          NaN               11992        NaN  \n",
              "mean         0.45                 NaN  346452.53  \n",
              "std          0.50                 NaN  199390.37  \n",
              "min          0.00                 NaN       2.00  \n",
              "25%          0.00                 NaN  174860.00  \n",
              "50%          0.00                 NaN  345336.00  \n",
              "75%          1.00                 NaN  519530.00  \n",
              "max          1.00                 NaN  693350.00  "
            ]
          },
          "execution_count": 13,
          "metadata": {},
          "output_type": "execute_result"
        }
      ],
      "source": [
        "# Dataset Describe (all columns included)\n",
        "combined_ML.describe(include= 'all').round(2)"
      ]
    },
    {
      "cell_type": "code",
      "execution_count": 14,
      "metadata": {
        "colab": {
          "base_uri": "https://localhost:8080/"
        },
        "id": "uisiRFctQdYK",
        "outputId": "a6ab2351-104e-4cdd-8a78-c1458b680d8e"
      },
      "outputs": [
        {
          "data": {
            "text/plain": [
              "count    1.482535e+06\n",
              "mean     2.673752e+01\n",
              "std      3.858607e+01\n",
              "min      0.000000e+00\n",
              "25%      1.000000e+01\n",
              "50%      1.700000e+01\n",
              "75%      2.900000e+01\n",
              "max      2.009000e+03\n",
              "Name: price, dtype: float64"
            ]
          },
          "execution_count": 14,
          "metadata": {},
          "output_type": "execute_result"
        }
      ],
      "source": [
        "# Train set describe (price column)\n",
        "train.price.describe()"
      ]
    },
    {
      "cell_type": "markdown",
      "metadata": {
        "id": "PBTbrJXOngz2"
      },
      "source": [
        "### Variables Description"
      ]
    },
    {
      "cell_type": "markdown",
      "metadata": {
        "id": "u3PMJOP6ngxN"
      },
      "source": [
        "### Check Unique Values for each variable."
      ]
    },
    {
      "cell_type": "code",
      "execution_count": 15,
      "metadata": {
        "colab": {
          "base_uri": "https://localhost:8080/"
        },
        "id": "zms12Yq5n-jE",
        "outputId": "da0700ee-6bd0-4452-abfa-96a6fccb7d4e"
      },
      "outputs": [
        {
          "name": "stdout",
          "output_type": "stream",
          "text": [
            "No. of unique values in train_id is 147946\n",
            "No. of unique values in name is 199252\n",
            "No. of unique values in item_condition_id is 5\n",
            "No. of unique values in category_name is 1076\n",
            "No. of unique values in brand_name is 2693\n",
            "No. of unique values in price is 443\n",
            "No. of unique values in shipping is 2\n",
            "No. of unique values in item_description is 195470\n",
            "No. of unique values in test_id is 69643\n"
          ]
        }
      ],
      "source": [
        "# Check Unique Values for each variable using a for loop.\n",
        "for i in combined_ML.columns.tolist():\n",
        "  print(\"No. of unique values in\",i,\"is\",combined_ML[i].nunique())"
      ]
    },
    {
      "cell_type": "markdown",
      "metadata": {
        "id": "FWk1Ue6CP3FA"
      },
      "source": [
        "## ***3. Data Wrangling***"
      ]
    },
    {
      "cell_type": "markdown",
      "metadata": {
        "id": "bKJF3rekwFvQ"
      },
      "source": [
        "### Data Wrangling Code"
      ]
    },
    {
      "cell_type": "code",
      "execution_count": 16,
      "metadata": {
        "id": "vFDX6sJYSFsw"
      },
      "outputs": [],
      "source": [
        "# Handling Missing Values & Missing Value Imputation\n",
        "# Function to handle missing values in the DataFrame\n",
        "def handle_missing_values(df):\n",
        "    df['category_name'].fillna(value='missing', inplace=True)\n",
        "    df['brand_name'].fillna(value='None', inplace=True)\n",
        "    df['item_description'].fillna(value='None', inplace=True)"
      ]
    },
    {
      "cell_type": "code",
      "execution_count": 17,
      "metadata": {
        "id": "i6S2c3hvSsOO"
      },
      "outputs": [],
      "source": [
        "# Handling Missing Values in combined and ML combined\n",
        "handle_missing_values(combined)\n",
        "handle_missing_values(combined_ML)"
      ]
    },
    {
      "cell_type": "code",
      "execution_count": 18,
      "metadata": {
        "id": "wk-9a2fpoLcV"
      },
      "outputs": [],
      "source": [
        "# Converting specific columns to categorical data types\n",
        "# Function to convert specific columns to categorical data types\n",
        "def to_categorical(df):\n",
        "    df['brand_name'] = df['brand_name'].astype('category')\n",
        "    df['category_name'] = df['category_name'].astype('category')\n",
        "    df['item_condition_id'] = df['item_condition_id'].astype('category')"
      ]
    },
    {
      "cell_type": "code",
      "execution_count": 19,
      "metadata": {
        "id": "ZK50dOdGVIyL"
      },
      "outputs": [],
      "source": [
        "# Applying 'to_categorical' function in combined and ML combined DataFrames\n",
        "to_categorical(combined)\n",
        "to_categorical(combined_ML)"
      ]
    },
    {
      "cell_type": "code",
      "execution_count": 20,
      "metadata": {
        "id": "EO1FDrbcVx9x"
      },
      "outputs": [],
      "source": [
        "# Convert the 'item_description' column to a string data type for both combined and ML combined\n",
        "combined.item_description = combined.item_description.astype(str)\n",
        "combined_ML.item_description = combined_ML.item_description.astype(str)"
      ]
    },
    {
      "cell_type": "markdown",
      "metadata": {
        "id": "MSa1f5Uengrz"
      },
      "source": [
        "### What all manipulations have i done and insights i found?"
      ]
    },
    {
      "cell_type": "markdown",
      "metadata": {
        "id": "LbyXE7I1olp8"
      },
      "source": [
        "To make the data analysis ready i have done the following:\n",
        "1. Filled missing values in 'category_name' with 'missing'.\n",
        "2. Filled missing values in 'brand_name' with 'None'.\n",
        "3. Filled missing values in 'item_description' with 'None'.\n",
        "4. Convert type of brand_name to categorical data type.\n",
        "5. Convert type of category_name to categorical data type.\n",
        "6. Convert type of item_condition_id to categorical data type.\n",
        "7. Convert type of item_description to string data type."
      ]
    },
    {
      "cell_type": "markdown",
      "metadata": {
        "id": "GF8Ens_Soomf"
      },
      "source": [
        "## ***4. Data Vizualization, Storytelling & Experimenting with charts : Understand the relationships between variables***"
      ]
    },
    {
      "cell_type": "markdown",
      "metadata": {
        "id": "0wOQAZs5pc--"
      },
      "source": [
        "#### Chart - 1 : Price Distribution"
      ]
    },
    {
      "cell_type": "code",
      "execution_count": 21,
      "metadata": {
        "colab": {
          "base_uri": "https://localhost:8080/",
          "height": 487
        },
        "id": "7v_ESjsspbW7",
        "outputId": "587ca8c8-092f-4b27-8c43-d52867a9d386"
      },
      "outputs": [
        {
          "data": {
            "image/png": "[encoded data removed]",
            "text/plain": [
              "<Figure size 800x500 with 1 Axes>"
            ]
          },
          "metadata": {},
          "output_type": "display_data"
        }
      ],
      "source": [
        "# Chart - 1 Visualization Code For Price Distribution\n",
        "# Set the figure size\n",
        "plt.figure(figsize=(8, 5))\n",
        "\n",
        "# Create a histogram of the 'price' column\n",
        "plt.hist(train['price'], bins=50, range=[0, 250], label='price')\n",
        "\n",
        "# Set the title and axis labels\n",
        "plt.title('Price Distribution', fontsize=12)\n",
        "plt.xlabel('Price', fontsize=10)\n",
        "plt.ylabel('Number of Samples', fontsize=10)\n",
        "\n",
        "# Display the plot\n",
        "plt.show()"
      ]
    },
    {
      "cell_type": "code",
      "execution_count": 22,
      "metadata": {
        "colab": {
          "base_uri": "https://localhost:8080/",
          "height": 487
        },
        "id": "QGgURZlcX1OP",
        "outputId": "834d4b4b-d585-42e1-8597-927230ff4b0b"
      },
      "outputs": [
        {
          "data": {
            "image/png": "[encoded data removed]",
            "text/plain": [
              "<Figure size 800x500 with 1 Axes>"
            ]
          },
          "metadata": {},
          "output_type": "display_data"
        }
      ],
      "source": [
        "# Filter data for items with shipping (shipping=1) and without shipping (shipping=0)\n",
        "shipping = train[train['shipping'] == 1]['price']\n",
        "no_shipping = train[train['shipping'] == 0]['price']\n",
        "\n",
        "# Set the figure size\n",
        "plt.figure(figsize=(8, 5))\n",
        "\n",
        "# Create histograms for both cases\n",
        "plt.hist(shipping, bins=50, density=True, range=[0, 250], alpha=0.7, label='Price With Shipping')\n",
        "plt.hist(no_shipping, bins=50, density=True, range=[0, 250], alpha=0.7, label='Price With No Shipping')\n",
        "\n",
        "# Set the title and axis labels\n",
        "plt.title('Price Distribution With/Without Shipping', fontsize=12)\n",
        "plt.xlabel('Price', fontsize=10)\n",
        "plt.ylabel('Normalized Samples', fontsize=10)\n",
        "\n",
        "# Add a legend with font size\n",
        "plt.legend(fontsize=10)\n",
        "\n",
        "# Display the plot\n",
        "plt.show()"
      ]
    },
    {
      "cell_type": "markdown",
      "metadata": {
        "id": "lQ7QKXXCp7Bj"
      },
      "source": [
        "##### What is/are the insight(s) found from the chart?"
      ]
    },
    {
      "cell_type": "markdown",
      "metadata": {
        "id": "C_j1G7yiqdRP"
      },
      "source": [
        "From the above chart, we got to know that the most number of sample's price is vary between 10 to 20."
      ]
    },
    {
      "cell_type": "markdown",
      "metadata": {
        "id": "KSlN3yHqYklG"
      },
      "source": [
        "#### Chart - 2 : Distribution of Top 10 Brand"
      ]
    },
    {
      "cell_type": "code",
      "execution_count": 23,
      "metadata": {
        "colab": {
          "base_uri": "https://localhost:8080/",
          "height": 487
        },
        "id": "R4YgtaqtYklH",
        "outputId": "4b7c4249-1006-4e16-8f50-62b86ce61624"
      },
      "outputs": [
        {
          "data": {
            "image/png": "[encoded data removed]",
            "text/plain": [
              "<Figure size 800x500 with 1 Axes>"
            ]
          },
          "metadata": {},
          "output_type": "display_data"
        }
      ],
      "source": [
        "# Chart - 2 Bar Plot Visualization Code for Top 10 Brands Distribution\n",
        "# Get the top 10 brands by their count and create a DataFrame\n",
        "top_10_brands = train['brand_name'].value_counts()[:10].reset_index().rename(columns={'index': 'brand_name', 'brand_name': 'count'})\n",
        "\n",
        "# Set the figure size\n",
        "plt.figure(figsize=(8, 5))\n",
        "\n",
        "# Create a bar plot for brand distribution\n",
        "ax = sns.barplot(x=\"count\", y=\"brand_name\", data=top_10_brands, palette=\"crest\")\n",
        "\n",
        "# Set the title and axis labels\n",
        "ax.set_title('Top 10 Brand Distribution', fontsize=12)\n",
        "plt.ylabel('Brand Names', fontsize=10)\n",
        "\n",
        "# Show the plot\n",
        "plt.show()"
      ]
    },
    {
      "cell_type": "markdown",
      "metadata": {
        "id": "ijmpgYnKYklI"
      },
      "source": [
        "##### What is/are the insight(s) found from the chart?"
      ]
    },
    {
      "cell_type": "markdown",
      "metadata": {
        "id": "PSx9atu2YklI"
      },
      "source": [
        "From above bar plot we can clearly see that the most popular brands are PINK, Nike, followed by Victoria's Secret and LuLaRoe."
      ]
    },
    {
      "cell_type": "markdown",
      "metadata": {
        "id": "EM7whBJCYoAo"
      },
      "source": [
        "#### Chart - 3 : Distribution of Top 10 Expensive Brands"
      ]
    },
    {
      "cell_type": "code",
      "execution_count": 24,
      "metadata": {
        "colab": {
          "base_uri": "https://localhost:8080/",
          "height": 487
        },
        "id": "t6GMdE67YoAp",
        "outputId": "bdde41a9-62fd-4da1-8b5d-e238c710f397"
      },
      "outputs": [
        {
          "data": {
            "image/png": "[encoded data removed]",
            "text/plain": [
              "<Figure size 800x500 with 1 Axes>"
            ]
          },
          "metadata": {},
          "output_type": "display_data"
        }
      ],
      "source": [
        "# Chart - 3 Bar Plot Visualization Code for Top 10 Expensive Brands Distribution\n",
        "# Calculate the mean price for the top 10 brands\n",
        "top10_brand = train.groupby('brand_name').mean()\n",
        "df_expPrice = pd.DataFrame(top10_brand['price'].nlargest(10).reset_index())\n",
        "\n",
        "# Set the figure size\n",
        "plt.figure(figsize=(8, 5))\n",
        "\n",
        "# Create a bar plot for the top 10 expensive brands using the defined color palette\n",
        "ax = sns.barplot(x=\"price\", y=\"brand_name\", data=df_expPrice, palette=\"crest\")\n",
        "\n",
        "# Set the title and axis labels\n",
        "ax.set_title('Top 10 Expensive Brands', fontsize=12)\n",
        "plt.ylabel('Brand Names', fontsize=10)\n",
        "\n",
        "# Show the plot\n",
        "plt.show()"
      ]
    },
    {
      "cell_type": "markdown",
      "metadata": {
        "id": "85gYPyotYoAp"
      },
      "source": [
        "##### What is/are the insight(s) found from the chart?"
      ]
    },
    {
      "cell_type": "markdown",
      "metadata": {
        "id": "4jstXR6OYoAp"
      },
      "source": [
        "From above bar plot we found that the Demdaco, Proenza Schouler are top most expensive brands followed by Auto Meter, Oris and MCM Worldwide."
      ]
    },
    {
      "cell_type": "markdown",
      "metadata": {
        "id": "4Of9eVA-YrdM"
      },
      "source": [
        "#### Chart - 4 : Distribution of Top 10 Main Categories"
      ]
    },
    {
      "cell_type": "code",
      "execution_count": 25,
      "metadata": {
        "id": "ELtbK3FhJZep"
      },
      "outputs": [],
      "source": [
        "# Define a function to split the category name into main, sub1, and sub2 categories\n",
        "def transform_category_name(category_name):\n",
        "    try:\n",
        "        main, sub1, sub2 = category_name.split('/')\n",
        "        return main, sub1, sub2\n",
        "    except:\n",
        "        return np.nan, np.nan, np.nan\n",
        "\n",
        "# Apply the transformation function to the 'category_name' column and create new columns\n",
        "train['category_main'], train['category_sub1'], train['category_sub2'] = zip(*train['category_name'].apply(transform_category_name))\n",
        "\n",
        "# Create a DataFrame with the main, sub1, sub2 categories, and the 'price' column\n",
        "cat_train = train[['category_main', 'category_sub1', 'category_sub2', 'price']]"
      ]
    },
    {
      "cell_type": "code",
      "execution_count": 26,
      "metadata": {
        "colab": {
          "base_uri": "https://localhost:8080/",
          "height": 487
        },
        "id": "irlUoxc8YrdO",
        "outputId": "5b561cdb-0c59-4950-c53e-c5b4b6830792"
      },
      "outputs": [
        {
          "data": {
            "image/png": "[encoded data removed]",
            "text/plain": [
              "<Figure size 800x500 with 1 Axes>"
            ]
          },
          "metadata": {},
          "output_type": "display_data"
        }
      ],
      "source": [
        "# Chart - 4 Count Plot Visualization Code for Top 10 Main Categories\n",
        "# Set the figure size for the plot\n",
        "plt.figure(figsize=(8, 5))\n",
        "\n",
        "# Create a count plot for the top 10 main categories\n",
        "sns.countplot(y=train['category_main'], order=train['category_main'].value_counts().index, orient='v', palette=\"crest\")\n",
        "\n",
        "# Set the title with a larger font size\n",
        "plt.title('Top 10 Main Categories', fontsize=12)\n",
        "\n",
        "# Set the y-axis label and x-axis label with appropriate font sizes\n",
        "plt.ylabel('Main Category', fontsize=10)\n",
        "plt.xlabel('Number of Items in Main Category', fontsize=10)\n",
        "\n",
        "# Show the plot\n",
        "plt.show()"
      ]
    },
    {
      "cell_type": "markdown",
      "metadata": {
        "id": "F6T5p64dYrdO"
      },
      "source": [
        "##### What is/are the insight(s) found from the chart?"
      ]
    },
    {
      "cell_type": "markdown",
      "metadata": {
        "id": "Xx8WAJvtYrdO"
      },
      "source": [
        "From above graph, it is observed that Women is the top most main category. Followed by Beauty, Kids and Electronics."
      ]
    },
    {
      "cell_type": "markdown",
      "metadata": {
        "id": "bamQiAODYuh1"
      },
      "source": [
        "#### Chart - 5 : Category Distribution With/Without Brand"
      ]
    },
    {
      "cell_type": "code",
      "execution_count": 27,
      "metadata": {
        "id": "1XTBXIeHxDKR"
      },
      "outputs": [],
      "source": [
        "# Create a \"no_brand\" column\n",
        "train['no_brand'] = train['brand_name'].isnull()"
      ]
    },
    {
      "cell_type": "code",
      "execution_count": 28,
      "metadata": {
        "colab": {
          "base_uri": "https://localhost:8080/",
          "height": 410
        },
        "id": "TIJwrbroYuh3",
        "outputId": "6cdf70c3-98fb-47fa-8a5a-af79e05aadfa"
      },
      "outputs": [
        {
          "data": {
            "image/png": "[encoded data removed]",
            "text/plain": [
              "<Figure size 800x400 with 1 Axes>"
            ]
          },
          "metadata": {},
          "output_type": "display_data"
        }
      ],
      "source": [
        "# Chart - 5 Count Plot Visualization Code for Category Distribution With/Without Brand\n",
        "# Set the figure size for the plot\n",
        "f, ax = plt.subplots(figsize=(8, 4))\n",
        "\n",
        "# Create a count plot for the distribution of categories with and without brand\n",
        "sns.countplot(y='category_main', hue='no_brand', data=train, palette=['green', '#db0000'])\n",
        "\n",
        "# Set the title\n",
        "ax.set_title('Category Distribution With/Without Brand', fontsize=12)\n",
        "\n",
        "# Show the plot\n",
        "plt.show()"
      ]
    },
    {
      "cell_type": "markdown",
      "metadata": {
        "id": "GwzvFGzlYuh3"
      },
      "source": [
        "##### What is/are the insight(s) found from the chart?"
      ]
    },
    {
      "cell_type": "markdown",
      "metadata": {
        "id": "uyqkiB8YYuh3"
      },
      "source": [
        "From above graph, it is observed that category distribution with and without brand, both are high for women category."
      ]
    },
    {
      "cell_type": "markdown",
      "metadata": {
        "id": "OH-pJp9IphqM"
      },
      "source": [
        "#### Chart - 6 : Distribution of Top 10 2nd Categories"
      ]
    },
    {
      "cell_type": "code",
      "execution_count": 29,
      "metadata": {
        "id": "y6tnfb-SBv4m"
      },
      "outputs": [],
      "source": [
        "# Group the data by 'category_sub2' and calculate the mean price\n",
        "df = cat_train.groupby(['category_sub2'])['price'].agg(['mean']).reset_index()\n",
        "\n",
        "# Rename the columns for clarity\n",
        "df = df.rename(columns={'category_sub2': 'Sub Category 2', 'mean': 'Mean Price'})\n",
        "\n",
        "# Sort the DataFrame by mean price in descending order and select the top 10 rows\n",
        "df = df.sort_values('Mean Price', ascending=False).head(10)"
      ]
    },
    {
      "cell_type": "code",
      "execution_count": 30,
      "metadata": {
        "colab": {
          "base_uri": "https://localhost:8080/",
          "height": 487
        },
        "id": "kuRf4wtuphqN",
        "outputId": "f5f0f9e0-c16d-496f-fd1a-995ecbe0d3cc"
      },
      "outputs": [
        {
          "data": {
            "image/png": "[encoded data removed]",
            "text/plain": [
              "<Figure size 800x500 with 1 Axes>"
            ]
          },
          "metadata": {},
          "output_type": "display_data"
        }
      ],
      "source": [
        "# Chart - 6 Count Plot Visualization Code for Top 10 2nd Category\n",
        "# Set the figure size for the plot\n",
        "plt.figure(figsize=(8, 5))\n",
        "\n",
        "# Create a horizontal bar plot\n",
        "plt.barh(range(0, len(df)), df['Mean Price'], align='center', alpha=0.5, color='skyblue')\n",
        "\n",
        "# Set the y-axis labels to display the subcategories\n",
        "plt.yticks(range(0, len(df)), df['Sub Category 2'], fontsize=10)\n",
        "\n",
        "# Set the x-axis label, y-axis label, and title\n",
        "plt.xlabel('Price', fontsize=10)\n",
        "plt.ylabel('Sub Category 2', fontsize=10)\n",
        "plt.title('Top 10 2nd Category (Mean Price)', fontsize=12)\n",
        "\n",
        "# Show the plot\n",
        "plt.show()"
      ]
    },
    {
      "cell_type": "markdown",
      "metadata": {
        "id": "_ouA3fa0phqN"
      },
      "source": [
        "##### What is/are the insight(s) found from the chart?"
      ]
    },
    {
      "cell_type": "markdown",
      "metadata": {
        "id": "VECbqPI7phqN"
      },
      "source": [
        "From the above chart we come to know that compare to the mean price, Cell Phones & Smartphones are in the top. Followed by Satchel, Digital Cameras, Lightweight and Air Conditioners are in the top of 2nd category list."
      ]
    },
    {
      "cell_type": "markdown",
      "metadata": {
        "id": "PIIx-8_IphqN"
      },
      "source": [
        "#### Chart - 7 : Distribution of Top 10 1st Categories"
      ]
    },
    {
      "cell_type": "code",
      "execution_count": 31,
      "metadata": {
        "id": "z1AC_Jz6AsTN"
      },
      "outputs": [],
      "source": [
        "# Group by the 1st subcategory and calculate the mean price\n",
        "df = cat_train.groupby(['category_sub1'])['price'].agg(['mean']).reset_index().rename(columns={'index': 'main', 'category_main':'count'})\n",
        "\n",
        "# Sort the data by mean price in descending order and select the top 10\n",
        "df = df.sort_values('mean', ascending=False).head(10)"
      ]
    },
    {
      "cell_type": "code",
      "execution_count": 32,
      "metadata": {
        "colab": {
          "base_uri": "https://localhost:8080/",
          "height": 487
        },
        "id": "lqAIGUfyphqO",
        "outputId": "6daa2255-8a95-49ed-cd82-1f6afa7829fe"
      },
      "outputs": [
        {
          "data": {
            "image/png": "[encoded data removed]",
            "text/plain": [
              "<Figure size 800x500 with 1 Axes>"
            ]
          },
          "metadata": {},
          "output_type": "display_data"
        }
      ],
      "source": [
        "# Chart - 7 Count Plot Visualization Code for Top 10 1st Category\n",
        "# Set the figure size for the plot\n",
        "plt.figure(figsize=(8, 5))\n",
        "\n",
        "# Create a horizontal bar plot with a different color\n",
        "plt.barh(range(0, len(df)), df['mean'], align='center', alpha=0.7, color='green')\n",
        "\n",
        "# Set the y-axis labels to display the 1st subcategories\n",
        "plt.yticks(range(0, len(df)), df['category_sub1'], fontsize=12)\n",
        "\n",
        "# Set the x-axis label, y-axis label, and title\n",
        "plt.xlabel('Price', fontsize=10)\n",
        "plt.ylabel('Sub Category 1', fontsize=10)\n",
        "plt.title('Top 10 1st Category (Mean Price)', fontsize=12)\n",
        "\n",
        "# Show the plot\n",
        "plt.show()"
      ]
    },
    {
      "cell_type": "markdown",
      "metadata": {
        "id": "RpSgAnDeE1m3"
      },
      "source": [
        "##### What is/are the insight(s) found from the chart?"
      ]
    },
    {
      "cell_type": "markdown",
      "metadata": {
        "id": "eBeWb9D4E1nJ"
      },
      "source": [
        "From the above chart we come to know that compare to the mean price, Golf, Shoes are in the top. Followed by Footwear, TV, Audio and Surveillance are in the top of 1st category list."
      ]
    },
    {
      "cell_type": "markdown",
      "metadata": {
        "id": "NC_X3p0fY2L0"
      },
      "source": [
        "#### Chart - 8 : Correlation Heatmap"
      ]
    },
    {
      "cell_type": "code",
      "execution_count": 33,
      "metadata": {
        "colab": {
          "base_uri": "https://localhost:8080/",
          "height": 545
        },
        "id": "xyC9zolEZNRQ",
        "outputId": "f11ec41e-ff7e-47c0-a55d-a59e902c10fb"
      },
      "outputs": [
        {
          "data": {
            "image/png": "[encoded data removed]",
            "text/plain": [
              "<Figure size 1000x600 with 2 Axes>"
            ]
          },
          "metadata": {},
          "output_type": "display_data"
        }
      ],
      "source": [
        "# Correlation Heatmap Visualization Code\n",
        "corr_matrix = train.corr()\n",
        "\n",
        "# Plot Heatmap\n",
        "plt.figure(figsize=(10, 6))\n",
        "sns.heatmap(corr_matrix, annot=True, cmap='Reds_r')\n",
        "\n",
        "# Setting Labels\n",
        "plt.title('Correlation Matrix heatmap')\n",
        "\n",
        "# Display Chart\n",
        "plt.show()"
      ]
    },
    {
      "cell_type": "markdown",
      "metadata": {
        "id": "YPEH6qLeZNRQ"
      },
      "source": [
        "##### What is/are the insight(s) found from the chart?"
      ]
    },
    {
      "cell_type": "markdown",
      "metadata": {
        "id": "bfSqtnDqZNRR"
      },
      "source": [
        "'no_brand' and 'shipping' are highly negatively correlated with 'item_condition_id'."
      ]
    },
    {
      "cell_type": "markdown",
      "metadata": {
        "id": "yLjJCtPM0KBk"
      },
      "source": [
        "## ***5. Feature Engineering & Data Pre-processing***"
      ]
    },
    {
      "cell_type": "markdown",
      "metadata": {
        "id": "Iwf50b-R2tYG"
      },
      "source": [
        "### 1. Textual Data Preprocessing\n",
        "(It's mandatory for textual dataset i.e., NLP, Sentiment Analysis, Text Clustering etc.)"
      ]
    },
    {
      "cell_type": "markdown",
      "metadata": {
        "id": "WVIkgGqN3qsr"
      },
      "source": [
        "#### 1. Lower Casing"
      ]
    },
    {
      "cell_type": "code",
      "execution_count": 34,
      "metadata": {
        "id": "88JnJ1jN3w7j"
      },
      "outputs": [],
      "source": [
        "# Lower Casing\n",
        "# Define a function to convert text into lower cases\n",
        "def to_lower(x):\n",
        "  return x.lower()\n",
        "\n",
        "# Apply the to_lower() function to the 'item_description' and 'name' column of the combined DataFrame\n",
        "combined['name'] = combined['name'].apply(to_lower)\n",
        "combined['item_description'] = combined['item_description'].apply(to_lower)\n",
        "\n",
        "# Apply the to_lower() function to the 'item_description' and 'name' column of the ML combined DataFrame\n",
        "combined_ML['name'] = combined_ML['name'].apply(to_lower)\n",
        "combined_ML['item_description'] = combined_ML['item_description'].apply(to_lower)"
      ]
    },
    {
      "cell_type": "markdown",
      "metadata": {
        "id": "XkPnILGE3zoT"
      },
      "source": [
        "#### 2. Removing Punctuations"
      ]
    },
    {
      "cell_type": "code",
      "execution_count": 35,
      "metadata": {
        "id": "vqbBqNaA33c0"
      },
      "outputs": [],
      "source": [
        "# Remove Punctuations\n",
        "# Define a function to remove punctuations from text\n",
        "def remove_punctuation(text):\n",
        "    '''a function for removing punctuation'''\n",
        "    # Replace each punctuation mark with no space, effectively deleting it from the text\n",
        "    translator = str.maketrans('', '', string.punctuation)\n",
        "    text_without_punct = text.translate(translator)\n",
        "    return text_without_punct\n",
        "\n",
        "# Apply the remove_punctuation() function to the 'item_description' and 'name' column of the combined DataFrame\n",
        "combined['name'] = combined['name'].apply(remove_punctuation)\n",
        "combined['item_description'] = combined['item_description'].apply(remove_punctuation)\n",
        "\n",
        "# Apply the remove_punctuation() function to the 'item_description' and 'name' column of the ML combined DataFrame\n",
        "combined_ML['name'] = combined_ML['name'].apply(remove_punctuation)\n",
        "combined_ML['item_description'] = combined_ML['item_description'].apply(remove_punctuation)"
      ]
    },
    {
      "cell_type": "markdown",
      "metadata": {
        "id": "Hlsf0x5436Go"
      },
      "source": [
        "#### 3. Removing URLs & Removing words and digits contain digits."
      ]
    },
    {
      "cell_type": "code",
      "execution_count": 36,
      "metadata": {
        "id": "2sxKgKxu4Ip3"
      },
      "outputs": [],
      "source": [
        "# Remove URLs & Remove words and digits contain digits\n",
        "# Define a function to remove digits from text\n",
        "def remove_digits(x):\n",
        "    x = ''.join([i for i in x if not i.isdigit()])\n",
        "    return x\n",
        "\n",
        "# Apply the remove_digits() function to the 'item_description' and 'name' column of the combined DataFrame\n",
        "combined['name'] = combined['name'].apply(remove_digits)\n",
        "combined['item_description'] = combined['item_description'].apply(remove_digits)\n",
        "\n",
        "# Apply the remove_digits() function to the 'item_description' and 'name' column of the ML combined DataFrame\n",
        "combined_ML['name'] = combined_ML['name'].apply(remove_digits)\n",
        "combined_ML['item_description'] = combined_ML['item_description'].apply(remove_digits)"
      ]
    },
    {
      "cell_type": "markdown",
      "metadata": {
        "id": "mT9DMSJo4nBL"
      },
      "source": [
        "#### 4. Removing Stopwords"
      ]
    },
    {
      "cell_type": "code",
      "execution_count": 37,
      "metadata": {
        "id": "T2LSJh154s8W"
      },
      "outputs": [],
      "source": [
        "# Remove Stopwords\n",
        "# Since the language is english, we need to import english stop words\n",
        "stop_words = nltk.corpus.stopwords.words('english')\n",
        "\n",
        "def remove_stop_words(x):\n",
        "  ''' function to remove stop words'''\n",
        "  x = x.split()\n",
        "  res = ''\n",
        "  for word in x:\n",
        "    if word not in stop_words:\n",
        "      res = res + ' ' + word\n",
        "  return res\n",
        "\n",
        "# Apply the remove_stop_words() function to the 'item_description' and 'name' column of the combined DataFrame\n",
        "combined['name'] = combined['name'].apply(remove_stop_words)\n",
        "combined['item_description'] = combined['item_description'].apply(remove_stop_words)\n",
        "\n",
        "# Apply the remove_stop_words() function to the 'item_description' and 'name' column of the ML combined DataFrame\n",
        "combined_ML['name'] = combined_ML['name'].apply(remove_stop_words)\n",
        "combined_ML['item_description'] = combined_ML['item_description'].apply(remove_stop_words)"
      ]
    },
    {
      "cell_type": "markdown",
      "metadata": {
        "id": "T0VqWOYE6DLQ"
      },
      "source": [
        "#### 5. Text Vectorization"
      ]
    },
    {
      "cell_type": "code",
      "execution_count": 38,
      "metadata": {
        "id": "yBRtdhth6JDE"
      },
      "outputs": [],
      "source": [
        "# Vectorizing Text\n",
        "# Create the object of Count Vectorizer\n",
        "cv = CountVectorizer(min_df=10)\n",
        "# setting min_df = 10\n",
        "\n",
        "# Fit the vectorizer using the name column\n",
        "X_name = cv.fit_transform(combined['name'])"
      ]
    },
    {
      "cell_type": "code",
      "execution_count": 39,
      "metadata": {
        "colab": {
          "base_uri": "https://localhost:8080/"
        },
        "id": "gP08lcBCJK1h",
        "outputId": "70371069-c924-496d-cb16-c91bf606e0d0"
      },
      "outputs": [
        {
          "data": {
            "text/plain": [
              "<2175894x20470 sparse matrix of type '<class 'numpy.int64'>'\n",
              "\twith 8148734 stored elements in Compressed Sparse Row format>"
            ]
          },
          "execution_count": 39,
          "metadata": {},
          "output_type": "execute_result"
        }
      ],
      "source": [
        "X_name"
      ]
    },
    {
      "cell_type": "code",
      "execution_count": 40,
      "metadata": {
        "id": "V3_loH9VPRhA"
      },
      "outputs": [],
      "source": [
        "# Vectorizing Text\n",
        "# Create the object of Count Vectorizer\n",
        "cv = CountVectorizer()\n",
        "\n",
        "# Fit the vectorizer using the category_name column\n",
        "X_category = cv.fit_transform(combined['category_name'])"
      ]
    },
    {
      "cell_type": "code",
      "execution_count": 41,
      "metadata": {
        "colab": {
          "base_uri": "https://localhost:8080/"
        },
        "id": "tCYe1sABPXn5",
        "outputId": "4ac3dce1-4eeb-4459-9f14-f5148b2a93cb"
      },
      "outputs": [
        {
          "data": {
            "text/plain": [
              "<2175894x1022 sparse matrix of type '<class 'numpy.int64'>'\n",
              "\twith 8711929 stored elements in Compressed Sparse Row format>"
            ]
          },
          "execution_count": 41,
          "metadata": {},
          "output_type": "execute_result"
        }
      ],
      "source": [
        "X_category"
      ]
    },
    {
      "cell_type": "code",
      "execution_count": 42,
      "metadata": {
        "id": "y8Xlwiw2gQ4I"
      },
      "outputs": [],
      "source": [
        "# Vectorizing Text\n",
        "# Create the object of Tfidf Vectorizer\n",
        "tv = TfidfVectorizer(max_features=55000, ngram_range=(1, 2), stop_words='english')\n",
        "\n",
        "# Fit the vectorizer using the item_description column\n",
        "X_description = tv.fit_transform(combined['item_description'])"
      ]
    },
    {
      "cell_type": "code",
      "execution_count": 43,
      "metadata": {
        "id": "q3N4kMcogqlW"
      },
      "outputs": [],
      "source": [
        "# Vectorizing Text\n",
        "# Create the object of Label Binarizer\n",
        "lb = LabelBinarizer(sparse_output=True)\n",
        "\n",
        "# Fit the Label Binarizer using the brand_name column\n",
        "X_brand = lb.fit_transform(combined['brand_name'])"
      ]
    },
    {
      "cell_type": "markdown",
      "metadata": {
        "id": "-oLEiFgy-5Pf"
      },
      "source": [
        "### 2. CSR_Matrix & Sparse Matrices"
      ]
    },
    {
      "cell_type": "code",
      "execution_count": 44,
      "metadata": {
        "id": "h1qC4yhBApWC"
      },
      "outputs": [],
      "source": [
        "# Create our final sparse matrix\n",
        "X_dummies = csr_matrix(pd.get_dummies(combined[['item_condition_id', 'shipping']], sparse=True).values)\n",
        "\n",
        "# Combine everything together\n",
        "sparse_merge = hstack((X_dummies, X_description, X_brand, X_category, X_name)).tocsr()"
      ]
    },
    {
      "cell_type": "markdown",
      "metadata": {
        "id": "BhH2vgX9EjGr"
      },
      "source": [
        "### 3. Data Splitting"
      ]
    },
    {
      "cell_type": "code",
      "execution_count": 45,
      "metadata": {
        "id": "0CTyd2UwEyNM"
      },
      "outputs": [],
      "source": [
        "# Split the sparse_merge dataset into the training and test sets\n",
        "X_train_sparse = sparse_merge[:train_size]\n",
        "\n",
        "X_test = sparse_merge[train_size:]"
      ]
    },
    {
      "cell_type": "markdown",
      "metadata": {
        "id": "kO-5U8lUmUEE"
      },
      "source": [
        "####Cross Validation"
      ]
    },
    {
      "cell_type": "code",
      "execution_count": 46,
      "metadata": {
        "id": "hmF5uXa-jHWR"
      },
      "outputs": [],
      "source": [
        "# Specify the proportion of data for the validation set\n",
        "eval_size = 0.10\n",
        "\n",
        "# Create KFold cross-validation object\n",
        "kf = KFold(n_splits=round(1. / eval_size))\n",
        "\n",
        "# Initialize variables to store train and validation indices\n",
        "train_indices, valid_indices = None, None\n",
        "\n",
        "# Loop through the KFold splits\n",
        "for train_index, valid_index in kf.split(X_train_sparse):\n",
        "    train_indices, valid_indices = train_index, valid_index\n",
        "    break  # Stop after the first fold\n",
        "\n",
        "# Split the dataset into training and validation sets\n",
        "X_train, y_train = X_train_sparse[train_indices], y[train_indices]\n",
        "X_valid, y_valid = X_train_sparse[valid_indices], y[valid_indices]"
      ]
    },
    {
      "cell_type": "markdown",
      "metadata": {
        "id": "VfCC591jGiD4"
      },
      "source": [
        "## ***6. ML Model Implementation***"
      ]
    },
    {
      "cell_type": "code",
      "execution_count": 47,
      "metadata": {
        "id": "cqzDsGkyn2Up"
      },
      "outputs": [],
      "source": [
        "def rmsle(y, y0):\n",
        "    \"\"\"\n",
        "    Calculate the Root Mean Square Error (RMSE) between two arrays.\n",
        "\n",
        "    Parameters:\n",
        "    y (array-like): Ground truth values.\n",
        "    y0 (array-like): Predicted values.\n",
        "\n",
        "    Returns:\n",
        "    float: The RMSE between y and y0.\n",
        "    \"\"\"\n",
        "    assert len(y) == len(y0)\n",
        "    return np.sqrt(np.mean(np.power(np.log1p(y) - np.log1p(y0), 2)))"
      ]
    },
    {
      "cell_type": "markdown",
      "metadata": {
        "id": "OB4l2ZhMeS1U"
      },
      "source": [
        "### ML Model - 1 : Linear Regression"
      ]
    },
    {
      "cell_type": "code",
      "execution_count": 48,
      "metadata": {
        "colab": {
          "base_uri": "https://localhost:8080/"
        },
        "id": "uPH4S9bObXZ7",
        "outputId": "32ab6c35-5520-4df7-b00c-1b6664edd688"
      },
      "outputs": [
        {
          "name": "stdout",
          "output_type": "stream",
          "text": [
            "[1662.7852520942688] Linear Regression completed.\n",
            "Linear Regression RMSLE: 0.474766633041383\n"
          ]
        }
      ],
      "source": [
        "# ML Model - 1 Implementation\n",
        "# Measure the start time\n",
        "start_time = time.time()\n",
        "\n",
        "# Create a Linear Regression model\n",
        "model = LinearRegression()\n",
        "\n",
        "# Train the model on the training data\n",
        "model.fit(X_train, y_train)\n",
        "\n",
        "# Make predictions on the validation set\n",
        "preds_valid = model.predict(X_valid)\n",
        "\n",
        "# Calculate the time taken for Linear Regression training\n",
        "training_time = time.time() - start_time\n",
        "\n",
        "# Calculate and print the Root Mean Squared Logarithmic Error (RMSLE) on the validation set\n",
        "rmsle_score = rmsle(np.expm1(y_valid), np.expm1(preds_valid))\n",
        "print('[{}] Linear Regression completed.'.format(training_time))\n",
        "print(\"Linear Regression RMSLE: \" + str(rmsle_score))"
      ]
    },
    {
      "cell_type": "code",
      "execution_count": 49,
      "metadata": {
        "colab": {
          "base_uri": "https://localhost:8080/"
        },
        "id": "7mjhcdS6Z6Dh",
        "outputId": "81f35b4e-f17b-4d55-d3b6-21d32497fc1d"
      },
      "outputs": [
        {
          "data": {
            "text/plain": [
              "array([  9.44882252, 105.5014096 ,   9.43550168, ...,  29.3413428 ,\n",
              "         8.71841308,  11.86833571])"
            ]
          },
          "execution_count": 49,
          "metadata": {},
          "output_type": "execute_result"
        }
      ],
      "source": [
        "# Transform the prices back to its original price\n",
        "np.expm1(preds_valid)"
      ]
    },
    {
      "cell_type": "markdown",
      "metadata": {
        "id": "ArJBuiUVfxKd"
      },
      "source": [
        "#### Explain the ML Model used and it's performance."
      ]
    },
    {
      "cell_type": "markdown",
      "metadata": {
        "id": "VpzLlIgmi2e8"
      },
      "source": [
        "The Linear Regression model is a straightforward and interpretable algorithm commonly used for regression tasks. It works by finding the linear relationship between the input features and the target variable, which, in this case, is the price of products.\n",
        "\n",
        "The performance of the Linear Regression model, as measured by the Root Mean Squared Logarithmic Error (RMSLE), resulted in a value of 0.4748. The RMSLE is a metric commonly used to evaluate regression models, and a lower RMSLE indicates a better model performance."
      ]
    },
    {
      "cell_type": "markdown",
      "metadata": {
        "id": "dJ2tPlVmpsJ0"
      },
      "source": [
        "### ML Model - 2 : Random Forest"
      ]
    },
    {
      "cell_type": "code",
      "execution_count": 50,
      "metadata": {
        "colab": {
          "base_uri": "https://localhost:8080/"
        },
        "id": "0G42qmiaWde4",
        "outputId": "900d84d8-0320-410a-e854-f5d2f9be5c61"
      },
      "outputs": [
        {
          "name": "stdout",
          "output_type": "stream",
          "text": [
            "[129.50164103507996] Random Forest completed.\n",
            "Random Forest RMSLE: 0.7191895613683609\n"
          ]
        }
      ],
      "source": [
        "# ML Model - 2 Implementation\n",
        "# Create a Random Forest model with specified parameters\n",
        "model2 = RandomForestRegressor(\n",
        "    n_estimators=100,        # Adjust the number of trees\n",
        "    max_depth=10,            # Limit tree depth\n",
        "    min_samples_split=5,     # Increase minimum samples per split\n",
        "    max_features='sqrt',     # Set max features\n",
        "    n_jobs=-1                # Use all available CPU cores\n",
        ")\n",
        "\n",
        "# Measure the start time\n",
        "start_time = time.time()\n",
        "\n",
        "# Train the Random Forest model on the training data\n",
        "model2.fit(X_train, y_train)\n",
        "\n",
        "# Make predictions on the validation set\n",
        "rf_pred = model2.predict(X_valid)\n",
        "\n",
        "# Calculate and print the time taken for Random Forest training\n",
        "training_time = time.time() - start_time\n",
        "\n",
        "# Calculate and print the Root Mean Squared Logarithmic Error (RMSLE) on the validation set\n",
        "rmsle_score = rmsle(np.expm1(y_valid), np.expm1(rf_pred))\n",
        "print('[{}] Random Forest completed.'.format(training_time))\n",
        "print(\"Random Forest RMSLE: \" + str(rmsle_score))"
      ]
    },
    {
      "cell_type": "code",
      "execution_count": 51,
      "metadata": {
        "colab": {
          "base_uri": "https://localhost:8080/"
        },
        "id": "hxKHLRu6bkeN",
        "outputId": "bc9f2224-4cdf-489f-91ac-29f96303b18d"
      },
      "outputs": [
        {
          "data": {
            "text/plain": [
              "array([17.89051842, 20.09253648, 17.80349799, ..., 18.08908315,\n",
              "       17.50135945, 18.17468179])"
            ]
          },
          "execution_count": 51,
          "metadata": {},
          "output_type": "execute_result"
        }
      ],
      "source": [
        "# Transform the prices back to its original price\n",
        "np.expm1(rf_pred)"
      ]
    },
    {
      "cell_type": "markdown",
      "metadata": {
        "id": "4LCflwq1mXq-"
      },
      "source": [
        "#### Explain the ML Model used and it's performance."
      ]
    },
    {
      "cell_type": "markdown",
      "metadata": {
        "id": "XtHXu_mHmXrA"
      },
      "source": [
        "Random Forest is an ensemble learning technique based on decision trees. It combines multiple decision trees to make predictions and offers advantages such as handling non-linear relationships, feature importance estimation, and robustness to outliers.\n",
        "\n",
        "The performance of the Random Forest model, as assessed by the Root Mean Squared Logarithmic Error (RMSLE), resulted in a value of 0.7192. The RMSLE is a common metric used to evaluate regression models, where a lower RMSLE indicates better performance. In this case, the RMSLE of 0.7192 reflects the model's accuracy in predicting prices for online sellers."
      ]
    },
    {
      "cell_type": "markdown",
      "metadata": {
        "id": "Fze-IPXLpx6K"
      },
      "source": [
        "### ML Model - 3 : Ridge Regression"
      ]
    },
    {
      "cell_type": "code",
      "execution_count": 52,
      "metadata": {
        "colab": {
          "base_uri": "https://localhost:8080/"
        },
        "id": "31OpBVyT7hzo",
        "outputId": "2df3bdd1-4fa2-4e9f-ba0c-761a031cb851"
      },
      "outputs": [
        {
          "name": "stdout",
          "output_type": "stream",
          "text": [
            "[162.71309304237366] Ridge Regression completed.\n",
            "Ridge Regression RMSLE: 0.47446619070156415\n"
          ]
        }
      ],
      "source": [
        "# ML Model - 3 Implementation\n",
        "# Create a Ridge Regression model\n",
        "model3 = Ridge(max_iter=100)\n",
        "\n",
        "# Train the model and make predictions as usual\n",
        "model3.fit(X_train, y_train)\n",
        "ridge_pred = model3.predict(X_valid)\n",
        "\n",
        "# Calculate and print the time taken for Random Forest training\n",
        "training_time = time.time() - start_time\n",
        "\n",
        "# Calculate and print the Root Mean Squared Logarithmic Error (RMSLE) on the validation set\n",
        "rmsle_score = rmsle(np.expm1(y_valid), np.expm1(ridge_pred))\n",
        "print('[{}] Ridge Regression completed.'.format(training_time))\n",
        "print(\"Ridge Regression RMSLE: \" + str(rmsle_score))"
      ]
    },
    {
      "cell_type": "code",
      "execution_count": 53,
      "metadata": {
        "colab": {
          "base_uri": "https://localhost:8080/"
        },
        "id": "jiMv2wB2iWyV",
        "outputId": "1ee4f0a7-3672-4df8-e161-c4dce8261283"
      },
      "outputs": [
        {
          "data": {
            "text/plain": [
              "array([ 9.39930434, 87.16384605,  8.78939183, ..., 23.77224133,\n",
              "        8.66421372, 11.90701092])"
            ]
          },
          "execution_count": 53,
          "metadata": {},
          "output_type": "execute_result"
        }
      ],
      "source": [
        "# Transform the prices back to its original price\n",
        "np.expm1(ridge_pred)"
      ]
    },
    {
      "cell_type": "markdown",
      "metadata": {
        "id": "CeAm7lpdnIw1"
      },
      "source": [
        "#### Explain the ML Model used and it's performance."
      ]
    },
    {
      "cell_type": "markdown",
      "metadata": {
        "id": "NwEBa0rWnIxQ"
      },
      "source": [
        "Ridge Regression is a linear regression technique that addresses multicollinearity and overfitting by introducing L2 regularization, which penalizes large coefficients. It's especially useful when dealing with datasets that have highly correlated features.\n",
        "\n",
        "The performance of the Ridge Regression model, as evaluated by the Root Mean Squared Logarithmic Error (RMSLE), resulted in a value of 0.4745. RMSLE is a widely-used metric for assessing regression models, where a lower RMSLE signifies better predictive accuracy. In this instance, an RMSLE of 0.4745 indicates the model's effectiveness in forecasting prices for online sellers.\n",
        "\n",
        "The Ridge Regression model has displayed strong performance, with an RMSLE of 0.4745, demonstrating its capacity to make accurate price predictions. It is particularly well-suited for situations where the dataset exhibits multicollinearity among predictor variables."
      ]
    },
    {
      "cell_type": "markdown",
      "metadata": {
        "id": "cBFFvTBNJzUa"
      },
      "source": [
        "### Which ML model did i choose from the above created models as my final prediction model and why?"
      ]
    },
    {
      "cell_type": "markdown",
      "metadata": {
        "id": "6ksF5Q1LKTVm"
      },
      "source": [
        "From the RMSLE values we can see that the Ridge Regression model is best model for our data.\n",
        "\n",
        "Here we get the RMSLE value is 0.4745. Lower RMSLE signifies better predictive accuracy.\n",
        "\n",
        "The Ridge Regression model is a valuable choice for the price prediction task, with an RMSLE of 0.4745.\n",
        "\n",
        "While the model has shown remarkable performance, further refinements and optimizations may be explored to fine-tune its predictive capabilities and meet the specific demands of the online seller recommendation project."
      ]
    },
    {
      "cell_type": "markdown",
      "metadata": {
        "id": "xpnTXSVdoTab"
      },
      "source": [
        "## ***7. Price Recommendation System***"
      ]
    },
    {
      "cell_type": "code",
      "execution_count": 54,
      "metadata": {
        "id": "SdIWK7-5oc8X"
      },
      "outputs": [],
      "source": [
        "# Make price predictions on the test dataset\n",
        "preds = model3.predict(X_test)\n",
        "\n",
        "# Convert the predictions back to the original scale from logarithmic scale\n",
        "predicted_prices = np.expm1(preds)\n",
        "\n",
        "# Assign the predicted prices to the \"price\" column in the submission DataFrame\n",
        "submission[\"price\"] = predicted_prices\n",
        "\n",
        "# Save the submission DataFrame to a CSV file without index\n",
        "submission.to_csv(\"submission_ridge.csv\", index=False)"
      ]
    },
    {
      "cell_type": "code",
      "execution_count": 55,
      "metadata": {
        "colab": {
          "base_uri": "https://localhost:8080/",
          "height": 424
        },
        "id": "YMzpttcFqOLZ",
        "outputId": "c713e497-3712-41fa-a91f-2857a5495936"
      },
      "outputs": [
        {
          "data": {
            "text/html": [
              "\n",
              "  <div id=\"df-c2b0a43d-1bfc-44de-8c23-974559315c5c\" class=\"colab-df-container\">\n",
              "    <div>\n",
              "<style scoped>\n",
              "    .dataframe tbody tr th:only-of-type {\n",
              "        vertical-align: middle;\n",
              "    }\n",
              "\n",
              "    .dataframe tbody tr th {\n",
              "        vertical-align: top;\n",
              "    }\n",
              "\n",
              "    .dataframe thead th {\n",
              "        text-align: right;\n",
              "    }\n",
              "</style>\n",
              "<table border=\"1\" class=\"dataframe\">\n",
              "  <thead>\n",
              "    <tr style=\"text-align: right;\">\n",
              "      <th></th>\n",
              "      <th>test_id</th>\n",
              "      <th>price</th>\n",
              "    </tr>\n",
              "  </thead>\n",
              "  <tbody>\n",
              "    <tr>\n",
              "      <th>0</th>\n",
              "      <td>0</td>\n",
              "      <td>10.455670</td>\n",
              "    </tr>\n",
              "    <tr>\n",
              "      <th>1</th>\n",
              "      <td>1</td>\n",
              "      <td>12.991942</td>\n",
              "    </tr>\n",
              "    <tr>\n",
              "      <th>2</th>\n",
              "      <td>2</td>\n",
              "      <td>48.457070</td>\n",
              "    </tr>\n",
              "    <tr>\n",
              "      <th>3</th>\n",
              "      <td>3</td>\n",
              "      <td>15.931137</td>\n",
              "    </tr>\n",
              "    <tr>\n",
              "      <th>4</th>\n",
              "      <td>4</td>\n",
              "      <td>7.379272</td>\n",
              "    </tr>\n",
              "    <tr>\n",
              "      <th>...</th>\n",
              "      <td>...</td>\n",
              "      <td>...</td>\n",
              "    </tr>\n",
              "    <tr>\n",
              "      <th>693354</th>\n",
              "      <td>693354</td>\n",
              "      <td>23.353390</td>\n",
              "    </tr>\n",
              "    <tr>\n",
              "      <th>693355</th>\n",
              "      <td>693355</td>\n",
              "      <td>27.991315</td>\n",
              "    </tr>\n",
              "    <tr>\n",
              "      <th>693356</th>\n",
              "      <td>693356</td>\n",
              "      <td>6.474056</td>\n",
              "    </tr>\n",
              "    <tr>\n",
              "      <th>693357</th>\n",
              "      <td>693357</td>\n",
              "      <td>17.066524</td>\n",
              "    </tr>\n",
              "    <tr>\n",
              "      <th>693358</th>\n",
              "      <td>693358</td>\n",
              "      <td>10.475430</td>\n",
              "    </tr>\n",
              "  </tbody>\n",
              "</table>\n",
              "<p>693359 rows × 2 columns</p>\n",
              "</div>\n",
              "    <div class=\"colab-df-buttons\">\n",
              "\n",
              "  <div class=\"colab-df-container\">\n",
              "    <button class=\"colab-df-convert\" onclick=\"convertToInteractive('df-c2b0a43d-1bfc-44de-8c23-974559315c5c')\"\n",
              "            title=\"Convert this dataframe to an interactive table.\"\n",
              "            style=\"display:none;\">\n",
              "\n",
              "  <svg xmlns=\"http://www.w3.org/2000/svg\" height=\"24px\" viewBox=\"0 -960 960 960\">\n",
              "    <path d=\"M120-120v-720h720v720H120Zm60-500h600v-160H180v160Zm220 220h160v-160H400v160Zm0 220h160v-160H400v160ZM180-400h160v-160H180v160Zm440 0h160v-160H620v160ZM180-180h160v-160H180v160Zm440 0h160v-160H620v160Z\"/>\n",
              "  </svg>\n",
              "    </button>\n",
              "\n",
              "  <style>\n",
              "    .colab-df-container {\n",
              "      display:flex;\n",
              "      gap: 12px;\n",
              "    }\n",
              "\n",
              "    .colab-df-convert {\n",
              "      background-color: #E8F0FE;\n",
              "      border: none;\n",
              "      border-radius: 50%;\n",
              "      cursor: pointer;\n",
              "      display: none;\n",
              "      fill: #1967D2;\n",
              "      height: 32px;\n",
              "      padding: 0 0 0 0;\n",
              "      width: 32px;\n",
              "    }\n",
              "\n",
              "    .colab-df-convert:hover {\n",
              "      background-color: #E2EBFA;\n",
              "      box-shadow: 0px 1px 2px rgba(60, 64, 67, 0.3), 0px 1px 3px 1px rgba(60, 64, 67, 0.15);\n",
              "      fill: #174EA6;\n",
              "    }\n",
              "\n",
              "    .colab-df-buttons div {\n",
              "      margin-bottom: 4px;\n",
              "    }\n",
              "\n",
              "    [theme=dark] .colab-df-convert {\n",
              "      background-color: #3B4455;\n",
              "      fill: #D2E3FC;\n",
              "    }\n",
              "\n",
              "    [theme=dark] .colab-df-convert:hover {\n",
              "      background-color: #434B5C;\n",
              "      box-shadow: 0px 1px 3px 1px rgba(0, 0, 0, 0.15);\n",
              "      filter: drop-shadow(0px 1px 2px rgba(0, 0, 0, 0.3));\n",
              "      fill: #FFFFFF;\n",
              "    }\n",
              "  </style>\n",
              "\n",
              "    <script>\n",
              "      const buttonEl =\n",
              "        document.querySelector('#df-c2b0a43d-1bfc-44de-8c23-974559315c5c button.colab-df-convert');\n",
              "      buttonEl.style.display =\n",
              "        google.colab.kernel.accessAllowed ? 'block' : 'none';\n",
              "\n",
              "      async function convertToInteractive(key) {\n",
              "        const element = document.querySelector('#df-c2b0a43d-1bfc-44de-8c23-974559315c5c');\n",
              "        const dataTable =\n",
              "          await google.colab.kernel.invokeFunction('convertToInteractive',\n",
              "                                                    [key], {});\n",
              "        if (!dataTable) return;\n",
              "\n",
              "        const docLinkHtml = 'Like what you see? Visit the ' +\n",
              "          '<a target=\"_blank\" href=https://colab.research.google.com/notebooks/data_table.ipynb>data table notebook</a>'\n",
              "          + ' to learn more about interactive tables.';\n",
              "        element.innerHTML = '';\n",
              "        dataTable['output_type'] = 'display_data';\n",
              "        await google.colab.output.renderOutput(dataTable, element);\n",
              "        const docLink = document.createElement('div');\n",
              "        docLink.innerHTML = docLinkHtml;\n",
              "        element.appendChild(docLink);\n",
              "      }\n",
              "    </script>\n",
              "  </div>\n",
              "\n",
              "\n",
              "<div id=\"df-d00b5bab-a31d-4eb4-a661-879184c27a24\">\n",
              "  <button class=\"colab-df-quickchart\" onclick=\"quickchart('df-d00b5bab-a31d-4eb4-a661-879184c27a24')\"\n",
              "            title=\"Suggest charts.\"\n",
              "            style=\"display:none;\">\n",
              "\n",
              "<svg xmlns=\"http://www.w3.org/2000/svg\" height=\"24px\"viewBox=\"0 0 24 24\"\n",
              "     width=\"24px\">\n",
              "    <g>\n",
              "        <path d=\"M19 3H5c-1.1 0-2 .9-2 2v14c0 1.1.9 2 2 2h14c1.1 0 2-.9 2-2V5c0-1.1-.9-2-2-2zM9 17H7v-7h2v7zm4 0h-2V7h2v10zm4 0h-2v-4h2v4z\"/>\n",
              "    </g>\n",
              "</svg>\n",
              "  </button>\n",
              "\n",
              "<style>\n",
              "  .colab-df-quickchart {\n",
              "      --bg-color: #E8F0FE;\n",
              "      --fill-color: #1967D2;\n",
              "      --hover-bg-color: #E2EBFA;\n",
              "      --hover-fill-color: #174EA6;\n",
              "      --disabled-fill-color: #AAA;\n",
              "      --disabled-bg-color: #DDD;\n",
              "  }\n",
              "\n",
              "  [theme=dark] .colab-df-quickchart {\n",
              "      --bg-color: #3B4455;\n",
              "      --fill-color: #D2E3FC;\n",
              "      --hover-bg-color: #434B5C;\n",
              "      --hover-fill-color: #FFFFFF;\n",
              "      --disabled-bg-color: #3B4455;\n",
              "      --disabled-fill-color: #666;\n",
              "  }\n",
              "\n",
              "  .colab-df-quickchart {\n",
              "    background-color: var(--bg-color);\n",
              "    border: none;\n",
              "    border-radius: 50%;\n",
              "    cursor: pointer;\n",
              "    display: none;\n",
              "    fill: var(--fill-color);\n",
              "    height: 32px;\n",
              "    padding: 0;\n",
              "    width: 32px;\n",
              "  }\n",
              "\n",
              "  .colab-df-quickchart:hover {\n",
              "    background-color: var(--hover-bg-color);\n",
              "    box-shadow: 0 1px 2px rgba(60, 64, 67, 0.3), 0 1px 3px 1px rgba(60, 64, 67, 0.15);\n",
              "    fill: var(--button-hover-fill-color);\n",
              "  }\n",
              "\n",
              "  .colab-df-quickchart-complete:disabled,\n",
              "  .colab-df-quickchart-complete:disabled:hover {\n",
              "    background-color: var(--disabled-bg-color);\n",
              "    fill: var(--disabled-fill-color);\n",
              "    box-shadow: none;\n",
              "  }\n",
              "\n",
              "  .colab-df-spinner {\n",
              "    border: 2px solid var(--fill-color);\n",
              "    border-color: transparent;\n",
              "    border-bottom-color: var(--fill-color);\n",
              "    animation:\n",
              "      spin 1s steps(1) infinite;\n",
              "  }\n",
              "\n",
              "  @keyframes spin {\n",
              "    0% {\n",
              "      border-color: transparent;\n",
              "      border-bottom-color: var(--fill-color);\n",
              "      border-left-color: var(--fill-color);\n",
              "    }\n",
              "    20% {\n",
              "      border-color: transparent;\n",
              "      border-left-color: var(--fill-color);\n",
              "      border-top-color: var(--fill-color);\n",
              "    }\n",
              "    30% {\n",
              "      border-color: transparent;\n",
              "      border-left-color: var(--fill-color);\n",
              "      border-top-color: var(--fill-color);\n",
              "      border-right-color: var(--fill-color);\n",
              "    }\n",
              "    40% {\n",
              "      border-color: transparent;\n",
              "      border-right-color: var(--fill-color);\n",
              "      border-top-color: var(--fill-color);\n",
              "    }\n",
              "    60% {\n",
              "      border-color: transparent;\n",
              "      border-right-color: var(--fill-color);\n",
              "    }\n",
              "    80% {\n",
              "      border-color: transparent;\n",
              "      border-right-color: var(--fill-color);\n",
              "      border-bottom-color: var(--fill-color);\n",
              "    }\n",
              "    90% {\n",
              "      border-color: transparent;\n",
              "      border-bottom-color: var(--fill-color);\n",
              "    }\n",
              "  }\n",
              "</style>\n",
              "\n",
              "  <script>\n",
              "    async function quickchart(key) {\n",
              "      const quickchartButtonEl =\n",
              "        document.querySelector('#' + key + ' button');\n",
              "      quickchartButtonEl.disabled = true;  // To prevent multiple clicks.\n",
              "      quickchartButtonEl.classList.add('colab-df-spinner');\n",
              "      try {\n",
              "        const charts = await google.colab.kernel.invokeFunction(\n",
              "            'suggestCharts', [key], {});\n",
              "      } catch (error) {\n",
              "        console.error('Error during call to suggestCharts:', error);\n",
              "      }\n",
              "      quickchartButtonEl.classList.remove('colab-df-spinner');\n",
              "      quickchartButtonEl.classList.add('colab-df-quickchart-complete');\n",
              "    }\n",
              "    (() => {\n",
              "      let quickchartButtonEl =\n",
              "        document.querySelector('#df-d00b5bab-a31d-4eb4-a661-879184c27a24 button');\n",
              "      quickchartButtonEl.style.display =\n",
              "        google.colab.kernel.accessAllowed ? 'block' : 'none';\n",
              "    })();\n",
              "  </script>\n",
              "</div>\n",
              "    </div>\n",
              "  </div>\n"
            ],
            "text/plain": [
              "        test_id      price\n",
              "0             0  10.455670\n",
              "1             1  12.991942\n",
              "2             2  48.457070\n",
              "3             3  15.931137\n",
              "4             4   7.379272\n",
              "...         ...        ...\n",
              "693354   693354  23.353390\n",
              "693355   693355  27.991315\n",
              "693356   693356   6.474056\n",
              "693357   693357  17.066524\n",
              "693358   693358  10.475430\n",
              "\n",
              "[693359 rows x 2 columns]"
            ]
          },
          "execution_count": 55,
          "metadata": {},
          "output_type": "execute_result"
        }
      ],
      "source": [
        "# Display the submission DataFrame\n",
        "submission"
      ]
    },
    {
      "cell_type": "markdown",
      "metadata": {
        "id": "gCX9965dhzqZ"
      },
      "source": [
        "# **Conclusion**"
      ]
    },
    {
      "cell_type": "markdown",
      "metadata": {
        "id": "Fjb1IsQkh3yE"
      },
      "source": [
        "**Exploratory Data Analysis (EDA) Insights:**\n",
        "\n",
        "- Most items fall within the 10 to 20 price range, suggesting a popular price bracket.\n",
        "- Prominent brands include PINK, Nike, Victoria's Secret, and LuLaRoe.\n",
        "- High-end brands such as Demdaco and Proenza Schouler were identified.\n",
        "- Women's products dominate primary categories, led by Women, Beauty, Kids, and Electronics.\n",
        "- Women's category shows substantial items with and without brands.\n",
        "\n",
        "**Machine Learning Model Insights:**\n",
        "\n",
        "- **Linear Regression:** Achieved an RMSLE of 0.4748, indicating reasonable accuracy.\n",
        "- **Random Forest:** RMSLE of 0.7192, showing potential for further refinement.\n",
        "- **Ridge Regression:** Impressive RMSLE of 0.4745, offering superior predictive accuracy.\n",
        "\n",
        "So, The Ridge Regression model excels in price prediction, proving valuable for online sellers.\n",
        "\n",
        "This summary provides key findings from the project and highlights the performance of machine learning models."
      ]
    }
  ],
  "metadata": {
    "colab": {
      "collapsed_sections": [
        "vncDsAP0Gaoa",
        "FJNUwmbgGyua",
        "w6K7xa23Elo4",
        "yQaldy8SH6Dl",
        "O_i_v8NEhb9l",
        "HhfV-JJviCcP",
        "Y3lxredqlCYt",
        "3RnN4peoiCZX",
        "x71ZqKXriCWQ",
        "7hBIi_osiCS2",
        "JlHwYmJAmNHm",
        "35m5QtbWiB9F",
        "PoPl-ycgm1ru",
        "H0kj-8xxnORC",
        "nA9Y7ga8ng1Z",
        "u3PMJOP6ngxN",
        "FWk1Ue6CP3FA",
        "bKJF3rekwFvQ",
        "MSa1f5Uengrz",
        "GF8Ens_Soomf",
        "0wOQAZs5pc--",
        "lQ7QKXXCp7Bj",
        "KSlN3yHqYklG",
        "ijmpgYnKYklI",
        "EM7whBJCYoAo",
        "85gYPyotYoAp",
        "4Of9eVA-YrdM",
        "F6T5p64dYrdO",
        "bamQiAODYuh1",
        "GwzvFGzlYuh3",
        "OH-pJp9IphqM",
        "_ouA3fa0phqN",
        "PIIx-8_IphqN",
        "RpSgAnDeE1m3",
        "NC_X3p0fY2L0",
        "YPEH6qLeZNRQ",
        "yLjJCtPM0KBk",
        "Iwf50b-R2tYG",
        "WVIkgGqN3qsr",
        "XkPnILGE3zoT",
        "Hlsf0x5436Go",
        "mT9DMSJo4nBL",
        "T0VqWOYE6DLQ",
        "-oLEiFgy-5Pf",
        "BhH2vgX9EjGr",
        "kO-5U8lUmUEE",
        "VfCC591jGiD4",
        "OB4l2ZhMeS1U",
        "ArJBuiUVfxKd",
        "dJ2tPlVmpsJ0",
        "4LCflwq1mXq-",
        "Fze-IPXLpx6K",
        "CeAm7lpdnIw1",
        "cBFFvTBNJzUa",
        "xpnTXSVdoTab",
        "gCX9965dhzqZ"
      ],
      "include_colab_link": true,
      "provenance": []
    },
    "kernelspec": {
      "display_name": "Python 3",
      "name": "python3"
    },
    "language_info": {
      "name": "python"
    }
  },
  "nbformat": 4,
  "nbformat_minor": 0
}
